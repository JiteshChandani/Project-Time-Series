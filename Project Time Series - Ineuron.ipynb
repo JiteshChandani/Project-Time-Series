{
 "cells": [
  {
   "cell_type": "code",
   "execution_count": 3,
   "metadata": {},
   "outputs": [],
   "source": [
    "import pandas as pd\n",
    "import numpy as np\n",
    "import matplotlib.pyplot as plt\n",
    "from statsmodels.graphics.tsaplots import plot_pacf\n",
    "from statsmodels.tsa.arima_model import ARIMA, ARMAResults\n",
    "import datetime\n",
    "import sys\n",
    "import seaborn as sns\n",
    "import statsmodels\n",
    "import statsmodels.stats.diagnostic as diag\n",
    "from statsmodels.tsa.stattools import adfuller\n",
    "%matplotlib inline\n"
   ]
  },
  {
   "cell_type": "code",
   "execution_count": 4,
   "metadata": {},
   "outputs": [
    {
     "data": {
      "text/html": [
       "<div>\n",
       "<style scoped>\n",
       "    .dataframe tbody tr th:only-of-type {\n",
       "        vertical-align: middle;\n",
       "    }\n",
       "\n",
       "    .dataframe tbody tr th {\n",
       "        vertical-align: top;\n",
       "    }\n",
       "\n",
       "    .dataframe thead th {\n",
       "        text-align: right;\n",
       "    }\n",
       "</style>\n",
       "<table border=\"1\" class=\"dataframe\">\n",
       "  <thead>\n",
       "    <tr style=\"text-align: right;\">\n",
       "      <th></th>\n",
       "      <th>DATE</th>\n",
       "      <th>SP500</th>\n",
       "      <th>NASDAQ.AAL</th>\n",
       "      <th>NASDAQ.AAPL</th>\n",
       "      <th>NASDAQ.ADBE</th>\n",
       "      <th>NASDAQ.ADI</th>\n",
       "      <th>NASDAQ.ADP</th>\n",
       "      <th>NASDAQ.ADSK</th>\n",
       "      <th>NASDAQ.AKAM</th>\n",
       "      <th>NASDAQ.ALXN</th>\n",
       "      <th>...</th>\n",
       "      <th>NYSE.WYN</th>\n",
       "      <th>NYSE.XEC</th>\n",
       "      <th>NYSE.XEL</th>\n",
       "      <th>NYSE.XL</th>\n",
       "      <th>NYSE.XOM</th>\n",
       "      <th>NYSE.XRX</th>\n",
       "      <th>NYSE.XYL</th>\n",
       "      <th>NYSE.YUM</th>\n",
       "      <th>NYSE.ZBH</th>\n",
       "      <th>NYSE.ZTS</th>\n",
       "    </tr>\n",
       "  </thead>\n",
       "  <tbody>\n",
       "    <tr>\n",
       "      <th>0</th>\n",
       "      <td>1491226200</td>\n",
       "      <td>2363.6101</td>\n",
       "      <td>42.3300</td>\n",
       "      <td>143.6800</td>\n",
       "      <td>129.6300</td>\n",
       "      <td>82.040</td>\n",
       "      <td>102.2300</td>\n",
       "      <td>85.2200</td>\n",
       "      <td>59.760</td>\n",
       "      <td>121.52</td>\n",
       "      <td>...</td>\n",
       "      <td>84.370</td>\n",
       "      <td>119.035</td>\n",
       "      <td>44.40</td>\n",
       "      <td>39.88</td>\n",
       "      <td>82.03</td>\n",
       "      <td>7.36</td>\n",
       "      <td>50.22</td>\n",
       "      <td>63.86</td>\n",
       "      <td>122.000</td>\n",
       "      <td>53.350</td>\n",
       "    </tr>\n",
       "    <tr>\n",
       "      <th>1</th>\n",
       "      <td>1491226260</td>\n",
       "      <td>2364.1001</td>\n",
       "      <td>42.3600</td>\n",
       "      <td>143.7000</td>\n",
       "      <td>130.3200</td>\n",
       "      <td>82.080</td>\n",
       "      <td>102.1400</td>\n",
       "      <td>85.6500</td>\n",
       "      <td>59.840</td>\n",
       "      <td>121.48</td>\n",
       "      <td>...</td>\n",
       "      <td>84.370</td>\n",
       "      <td>119.035</td>\n",
       "      <td>44.11</td>\n",
       "      <td>39.88</td>\n",
       "      <td>82.03</td>\n",
       "      <td>7.38</td>\n",
       "      <td>50.22</td>\n",
       "      <td>63.74</td>\n",
       "      <td>121.770</td>\n",
       "      <td>53.350</td>\n",
       "    </tr>\n",
       "    <tr>\n",
       "      <th>2</th>\n",
       "      <td>1491226320</td>\n",
       "      <td>2362.6799</td>\n",
       "      <td>42.3100</td>\n",
       "      <td>143.6901</td>\n",
       "      <td>130.2250</td>\n",
       "      <td>82.030</td>\n",
       "      <td>102.2125</td>\n",
       "      <td>85.5100</td>\n",
       "      <td>59.795</td>\n",
       "      <td>121.93</td>\n",
       "      <td>...</td>\n",
       "      <td>84.585</td>\n",
       "      <td>119.260</td>\n",
       "      <td>44.09</td>\n",
       "      <td>39.98</td>\n",
       "      <td>82.02</td>\n",
       "      <td>7.36</td>\n",
       "      <td>50.12</td>\n",
       "      <td>63.75</td>\n",
       "      <td>121.700</td>\n",
       "      <td>53.365</td>\n",
       "    </tr>\n",
       "    <tr>\n",
       "      <th>3</th>\n",
       "      <td>1491226380</td>\n",
       "      <td>2364.3101</td>\n",
       "      <td>42.3700</td>\n",
       "      <td>143.6400</td>\n",
       "      <td>130.0729</td>\n",
       "      <td>82.000</td>\n",
       "      <td>102.1400</td>\n",
       "      <td>85.4872</td>\n",
       "      <td>59.620</td>\n",
       "      <td>121.44</td>\n",
       "      <td>...</td>\n",
       "      <td>84.460</td>\n",
       "      <td>119.260</td>\n",
       "      <td>44.25</td>\n",
       "      <td>39.99</td>\n",
       "      <td>82.02</td>\n",
       "      <td>7.35</td>\n",
       "      <td>50.16</td>\n",
       "      <td>63.88</td>\n",
       "      <td>121.700</td>\n",
       "      <td>53.380</td>\n",
       "    </tr>\n",
       "    <tr>\n",
       "      <th>4</th>\n",
       "      <td>1491226440</td>\n",
       "      <td>2364.8501</td>\n",
       "      <td>42.5378</td>\n",
       "      <td>143.6600</td>\n",
       "      <td>129.8800</td>\n",
       "      <td>82.035</td>\n",
       "      <td>102.0600</td>\n",
       "      <td>85.7001</td>\n",
       "      <td>59.620</td>\n",
       "      <td>121.60</td>\n",
       "      <td>...</td>\n",
       "      <td>84.470</td>\n",
       "      <td>119.610</td>\n",
       "      <td>44.11</td>\n",
       "      <td>39.96</td>\n",
       "      <td>82.03</td>\n",
       "      <td>7.36</td>\n",
       "      <td>50.20</td>\n",
       "      <td>63.91</td>\n",
       "      <td>121.695</td>\n",
       "      <td>53.240</td>\n",
       "    </tr>\n",
       "  </tbody>\n",
       "</table>\n",
       "<p>5 rows × 502 columns</p>\n",
       "</div>"
      ],
      "text/plain": [
       "         DATE      SP500  NASDAQ.AAL  NASDAQ.AAPL  NASDAQ.ADBE  NASDAQ.ADI  \\\n",
       "0  1491226200  2363.6101     42.3300     143.6800     129.6300      82.040   \n",
       "1  1491226260  2364.1001     42.3600     143.7000     130.3200      82.080   \n",
       "2  1491226320  2362.6799     42.3100     143.6901     130.2250      82.030   \n",
       "3  1491226380  2364.3101     42.3700     143.6400     130.0729      82.000   \n",
       "4  1491226440  2364.8501     42.5378     143.6600     129.8800      82.035   \n",
       "\n",
       "   NASDAQ.ADP  NASDAQ.ADSK  NASDAQ.AKAM  NASDAQ.ALXN  ...  NYSE.WYN  NYSE.XEC  \\\n",
       "0    102.2300      85.2200       59.760       121.52  ...    84.370   119.035   \n",
       "1    102.1400      85.6500       59.840       121.48  ...    84.370   119.035   \n",
       "2    102.2125      85.5100       59.795       121.93  ...    84.585   119.260   \n",
       "3    102.1400      85.4872       59.620       121.44  ...    84.460   119.260   \n",
       "4    102.0600      85.7001       59.620       121.60  ...    84.470   119.610   \n",
       "\n",
       "   NYSE.XEL  NYSE.XL  NYSE.XOM  NYSE.XRX  NYSE.XYL  NYSE.YUM  NYSE.ZBH  \\\n",
       "0     44.40    39.88     82.03      7.36     50.22     63.86   122.000   \n",
       "1     44.11    39.88     82.03      7.38     50.22     63.74   121.770   \n",
       "2     44.09    39.98     82.02      7.36     50.12     63.75   121.700   \n",
       "3     44.25    39.99     82.02      7.35     50.16     63.88   121.700   \n",
       "4     44.11    39.96     82.03      7.36     50.20     63.91   121.695   \n",
       "\n",
       "   NYSE.ZTS  \n",
       "0    53.350  \n",
       "1    53.350  \n",
       "2    53.365  \n",
       "3    53.380  \n",
       "4    53.240  \n",
       "\n",
       "[5 rows x 502 columns]"
      ]
     },
     "execution_count": 4,
     "metadata": {},
     "output_type": "execute_result"
    }
   ],
   "source": [
    "df = pd.read_csv('C:/Users/Jitesh Chandani/Desktop/data_stocks.csv')\n",
    "df.head()"
   ]
  },
  {
   "cell_type": "code",
   "execution_count": 5,
   "metadata": {},
   "outputs": [
    {
     "name": "stdout",
     "output_type": "stream",
     "text": [
      "<class 'pandas.core.frame.DataFrame'>\n",
      "RangeIndex: 41266 entries, 0 to 41265\n",
      "Columns: 502 entries, DATE to NYSE.ZTS\n",
      "dtypes: float64(501), int64(1)\n",
      "memory usage: 158.0 MB\n"
     ]
    }
   ],
   "source": [
    "df.info()"
   ]
  },
  {
   "cell_type": "code",
   "execution_count": 6,
   "metadata": {},
   "outputs": [
    {
     "data": {
      "text/plain": [
       "(41266, 502)"
      ]
     },
     "execution_count": 6,
     "metadata": {},
     "output_type": "execute_result"
    }
   ],
   "source": [
    "df.shape"
   ]
  },
  {
   "cell_type": "code",
   "execution_count": 12,
   "metadata": {},
   "outputs": [
    {
     "data": {
      "text/plain": [
       "DATE             int64\n",
       "SP500          float64\n",
       "NASDAQ.AAL     float64\n",
       "NASDAQ.AAPL    float64\n",
       "NASDAQ.ADBE    float64\n",
       "                ...   \n",
       "NYSE.XRX       float64\n",
       "NYSE.XYL       float64\n",
       "NYSE.YUM       float64\n",
       "NYSE.ZBH       float64\n",
       "NYSE.ZTS       float64\n",
       "Length: 502, dtype: object"
      ]
     },
     "execution_count": 12,
     "metadata": {},
     "output_type": "execute_result"
    }
   ],
   "source": [
    "df.dtypes"
   ]
  },
  {
   "cell_type": "code",
   "execution_count": 14,
   "metadata": {},
   "outputs": [
    {
     "data": {
      "text/plain": [
       "0"
      ]
     },
     "execution_count": 14,
     "metadata": {},
     "output_type": "execute_result"
    }
   ],
   "source": [
    "# Check if there are any null values. Since there are many columns, total sum of rows or elements which are null \n",
    "# across all columns tells us whether we need to consider to impute or remove those rows\n",
    "df.isna().sum().sum()"
   ]
  },
  {
   "cell_type": "code",
   "execution_count": 15,
   "metadata": {},
   "outputs": [
    {
     "data": {
      "text/plain": [
       "0"
      ]
     },
     "execution_count": 15,
     "metadata": {},
     "output_type": "execute_result"
    }
   ],
   "source": [
    "# Check if there are any 0 values. Since there are many columns, total sum of rows or elements which have '0' values \n",
    "# across all columns tells us whether we need to consider to impute or clean/correct the data in those rows or elements\n",
    "df[df==0].any().sum()"
   ]
  },
  {
   "cell_type": "code",
   "execution_count": 16,
   "metadata": {},
   "outputs": [
    {
     "data": {
      "text/plain": [
       "0"
      ]
     },
     "execution_count": 16,
     "metadata": {},
     "output_type": "execute_result"
    }
   ],
   "source": [
    "# Check if there are any -ve values. Since there are many columns, total sum of rows or elements which have '-ve' values \n",
    "# across all columns tells us whether we need to consider to impute or clean/correct the data in those rows or elements\n",
    "df[df<0].any().sum()"
   ]
  },
  {
   "cell_type": "code",
   "execution_count": 17,
   "metadata": {},
   "outputs": [
    {
     "data": {
      "text/html": [
       "<div>\n",
       "<style scoped>\n",
       "    .dataframe tbody tr th:only-of-type {\n",
       "        vertical-align: middle;\n",
       "    }\n",
       "\n",
       "    .dataframe tbody tr th {\n",
       "        vertical-align: top;\n",
       "    }\n",
       "\n",
       "    .dataframe thead th {\n",
       "        text-align: right;\n",
       "    }\n",
       "</style>\n",
       "<table border=\"1\" class=\"dataframe\">\n",
       "  <thead>\n",
       "    <tr style=\"text-align: right;\">\n",
       "      <th></th>\n",
       "      <th>DATE</th>\n",
       "      <th>SP500</th>\n",
       "      <th>NASDAQ.AAL</th>\n",
       "      <th>NASDAQ.AAPL</th>\n",
       "      <th>NASDAQ.ADBE</th>\n",
       "      <th>NASDAQ.ADI</th>\n",
       "      <th>NASDAQ.ADP</th>\n",
       "      <th>NASDAQ.ADSK</th>\n",
       "      <th>NASDAQ.AKAM</th>\n",
       "      <th>NASDAQ.ALXN</th>\n",
       "      <th>...</th>\n",
       "      <th>NYSE.WYN</th>\n",
       "      <th>NYSE.XEC</th>\n",
       "      <th>NYSE.XEL</th>\n",
       "      <th>NYSE.XL</th>\n",
       "      <th>NYSE.XOM</th>\n",
       "      <th>NYSE.XRX</th>\n",
       "      <th>NYSE.XYL</th>\n",
       "      <th>NYSE.YUM</th>\n",
       "      <th>NYSE.ZBH</th>\n",
       "      <th>NYSE.ZTS</th>\n",
       "    </tr>\n",
       "  </thead>\n",
       "  <tbody>\n",
       "    <tr>\n",
       "      <th>count</th>\n",
       "      <td>4.126600e+04</td>\n",
       "      <td>41266.000000</td>\n",
       "      <td>41266.000000</td>\n",
       "      <td>41266.000000</td>\n",
       "      <td>41266.00000</td>\n",
       "      <td>41266.000000</td>\n",
       "      <td>41266.000000</td>\n",
       "      <td>41266.000000</td>\n",
       "      <td>41266.000000</td>\n",
       "      <td>41266.000000</td>\n",
       "      <td>...</td>\n",
       "      <td>41266.000000</td>\n",
       "      <td>41266.000000</td>\n",
       "      <td>41266.000000</td>\n",
       "      <td>41266.000000</td>\n",
       "      <td>41266.000000</td>\n",
       "      <td>41266.000000</td>\n",
       "      <td>41266.000000</td>\n",
       "      <td>41266.000000</td>\n",
       "      <td>41266.000000</td>\n",
       "      <td>41266.000000</td>\n",
       "    </tr>\n",
       "    <tr>\n",
       "      <th>mean</th>\n",
       "      <td>1.497749e+09</td>\n",
       "      <td>2421.537882</td>\n",
       "      <td>47.708346</td>\n",
       "      <td>150.453566</td>\n",
       "      <td>141.31793</td>\n",
       "      <td>79.446873</td>\n",
       "      <td>103.480398</td>\n",
       "      <td>102.998608</td>\n",
       "      <td>50.894352</td>\n",
       "      <td>122.981163</td>\n",
       "      <td>...</td>\n",
       "      <td>97.942211</td>\n",
       "      <td>104.740666</td>\n",
       "      <td>46.664402</td>\n",
       "      <td>43.043984</td>\n",
       "      <td>80.784595</td>\n",
       "      <td>19.300718</td>\n",
       "      <td>54.541988</td>\n",
       "      <td>71.757891</td>\n",
       "      <td>121.423515</td>\n",
       "      <td>60.183874</td>\n",
       "    </tr>\n",
       "    <tr>\n",
       "      <th>std</th>\n",
       "      <td>3.822211e+06</td>\n",
       "      <td>39.557135</td>\n",
       "      <td>3.259377</td>\n",
       "      <td>6.236826</td>\n",
       "      <td>6.91674</td>\n",
       "      <td>2.000283</td>\n",
       "      <td>4.424244</td>\n",
       "      <td>9.389788</td>\n",
       "      <td>4.833931</td>\n",
       "      <td>11.252010</td>\n",
       "      <td>...</td>\n",
       "      <td>5.411795</td>\n",
       "      <td>10.606694</td>\n",
       "      <td>1.508444</td>\n",
       "      <td>1.714533</td>\n",
       "      <td>1.840989</td>\n",
       "      <td>11.686532</td>\n",
       "      <td>3.526321</td>\n",
       "      <td>4.038272</td>\n",
       "      <td>5.607070</td>\n",
       "      <td>3.346887</td>\n",
       "    </tr>\n",
       "    <tr>\n",
       "      <th>min</th>\n",
       "      <td>1.491226e+09</td>\n",
       "      <td>2329.139900</td>\n",
       "      <td>40.830000</td>\n",
       "      <td>140.160000</td>\n",
       "      <td>128.24000</td>\n",
       "      <td>74.800000</td>\n",
       "      <td>95.870000</td>\n",
       "      <td>83.000000</td>\n",
       "      <td>44.650000</td>\n",
       "      <td>96.250000</td>\n",
       "      <td>...</td>\n",
       "      <td>83.410000</td>\n",
       "      <td>89.510000</td>\n",
       "      <td>44.090000</td>\n",
       "      <td>39.120000</td>\n",
       "      <td>76.060000</td>\n",
       "      <td>6.660000</td>\n",
       "      <td>48.820000</td>\n",
       "      <td>63.180000</td>\n",
       "      <td>110.120000</td>\n",
       "      <td>52.300000</td>\n",
       "    </tr>\n",
       "    <tr>\n",
       "      <th>25%</th>\n",
       "      <td>1.494432e+09</td>\n",
       "      <td>2390.860100</td>\n",
       "      <td>44.945400</td>\n",
       "      <td>144.640000</td>\n",
       "      <td>135.19500</td>\n",
       "      <td>78.030000</td>\n",
       "      <td>101.300000</td>\n",
       "      <td>94.820000</td>\n",
       "      <td>47.440000</td>\n",
       "      <td>116.950000</td>\n",
       "      <td>...</td>\n",
       "      <td>95.960000</td>\n",
       "      <td>95.010000</td>\n",
       "      <td>45.155000</td>\n",
       "      <td>41.955000</td>\n",
       "      <td>80.220000</td>\n",
       "      <td>7.045000</td>\n",
       "      <td>51.630000</td>\n",
       "      <td>69.110000</td>\n",
       "      <td>117.580000</td>\n",
       "      <td>59.620000</td>\n",
       "    </tr>\n",
       "    <tr>\n",
       "      <th>50%</th>\n",
       "      <td>1.497638e+09</td>\n",
       "      <td>2430.149900</td>\n",
       "      <td>48.360000</td>\n",
       "      <td>149.945000</td>\n",
       "      <td>142.26000</td>\n",
       "      <td>79.410000</td>\n",
       "      <td>102.440000</td>\n",
       "      <td>106.820000</td>\n",
       "      <td>49.509900</td>\n",
       "      <td>123.620000</td>\n",
       "      <td>...</td>\n",
       "      <td>99.250000</td>\n",
       "      <td>99.660000</td>\n",
       "      <td>46.810000</td>\n",
       "      <td>43.200000</td>\n",
       "      <td>81.150000</td>\n",
       "      <td>27.890000</td>\n",
       "      <td>53.850000</td>\n",
       "      <td>73.470000</td>\n",
       "      <td>120.650000</td>\n",
       "      <td>61.585600</td>\n",
       "    </tr>\n",
       "    <tr>\n",
       "      <th>75%</th>\n",
       "      <td>1.501090e+09</td>\n",
       "      <td>2448.820100</td>\n",
       "      <td>50.180000</td>\n",
       "      <td>155.065000</td>\n",
       "      <td>147.10000</td>\n",
       "      <td>80.580000</td>\n",
       "      <td>104.660000</td>\n",
       "      <td>110.490000</td>\n",
       "      <td>52.230000</td>\n",
       "      <td>132.218800</td>\n",
       "      <td>...</td>\n",
       "      <td>102.080000</td>\n",
       "      <td>117.034700</td>\n",
       "      <td>47.730000</td>\n",
       "      <td>44.370000</td>\n",
       "      <td>82.062050</td>\n",
       "      <td>30.470000</td>\n",
       "      <td>57.140000</td>\n",
       "      <td>74.750000</td>\n",
       "      <td>126.000000</td>\n",
       "      <td>62.540000</td>\n",
       "    </tr>\n",
       "    <tr>\n",
       "      <th>max</th>\n",
       "      <td>1.504210e+09</td>\n",
       "      <td>2490.649900</td>\n",
       "      <td>54.475000</td>\n",
       "      <td>164.510000</td>\n",
       "      <td>155.33000</td>\n",
       "      <td>90.440000</td>\n",
       "      <td>121.770000</td>\n",
       "      <td>119.270000</td>\n",
       "      <td>62.560000</td>\n",
       "      <td>142.875000</td>\n",
       "      <td>...</td>\n",
       "      <td>106.375000</td>\n",
       "      <td>123.870000</td>\n",
       "      <td>49.660000</td>\n",
       "      <td>47.210000</td>\n",
       "      <td>83.630000</td>\n",
       "      <td>32.930000</td>\n",
       "      <td>62.130000</td>\n",
       "      <td>77.120000</td>\n",
       "      <td>133.450000</td>\n",
       "      <td>63.840000</td>\n",
       "    </tr>\n",
       "  </tbody>\n",
       "</table>\n",
       "<p>8 rows × 502 columns</p>\n",
       "</div>"
      ],
      "text/plain": [
       "               DATE         SP500    NASDAQ.AAL   NASDAQ.AAPL  NASDAQ.ADBE  \\\n",
       "count  4.126600e+04  41266.000000  41266.000000  41266.000000  41266.00000   \n",
       "mean   1.497749e+09   2421.537882     47.708346    150.453566    141.31793   \n",
       "std    3.822211e+06     39.557135      3.259377      6.236826      6.91674   \n",
       "min    1.491226e+09   2329.139900     40.830000    140.160000    128.24000   \n",
       "25%    1.494432e+09   2390.860100     44.945400    144.640000    135.19500   \n",
       "50%    1.497638e+09   2430.149900     48.360000    149.945000    142.26000   \n",
       "75%    1.501090e+09   2448.820100     50.180000    155.065000    147.10000   \n",
       "max    1.504210e+09   2490.649900     54.475000    164.510000    155.33000   \n",
       "\n",
       "         NASDAQ.ADI    NASDAQ.ADP   NASDAQ.ADSK   NASDAQ.AKAM   NASDAQ.ALXN  \\\n",
       "count  41266.000000  41266.000000  41266.000000  41266.000000  41266.000000   \n",
       "mean      79.446873    103.480398    102.998608     50.894352    122.981163   \n",
       "std        2.000283      4.424244      9.389788      4.833931     11.252010   \n",
       "min       74.800000     95.870000     83.000000     44.650000     96.250000   \n",
       "25%       78.030000    101.300000     94.820000     47.440000    116.950000   \n",
       "50%       79.410000    102.440000    106.820000     49.509900    123.620000   \n",
       "75%       80.580000    104.660000    110.490000     52.230000    132.218800   \n",
       "max       90.440000    121.770000    119.270000     62.560000    142.875000   \n",
       "\n",
       "       ...      NYSE.WYN      NYSE.XEC      NYSE.XEL       NYSE.XL  \\\n",
       "count  ...  41266.000000  41266.000000  41266.000000  41266.000000   \n",
       "mean   ...     97.942211    104.740666     46.664402     43.043984   \n",
       "std    ...      5.411795     10.606694      1.508444      1.714533   \n",
       "min    ...     83.410000     89.510000     44.090000     39.120000   \n",
       "25%    ...     95.960000     95.010000     45.155000     41.955000   \n",
       "50%    ...     99.250000     99.660000     46.810000     43.200000   \n",
       "75%    ...    102.080000    117.034700     47.730000     44.370000   \n",
       "max    ...    106.375000    123.870000     49.660000     47.210000   \n",
       "\n",
       "           NYSE.XOM      NYSE.XRX      NYSE.XYL      NYSE.YUM      NYSE.ZBH  \\\n",
       "count  41266.000000  41266.000000  41266.000000  41266.000000  41266.000000   \n",
       "mean      80.784595     19.300718     54.541988     71.757891    121.423515   \n",
       "std        1.840989     11.686532      3.526321      4.038272      5.607070   \n",
       "min       76.060000      6.660000     48.820000     63.180000    110.120000   \n",
       "25%       80.220000      7.045000     51.630000     69.110000    117.580000   \n",
       "50%       81.150000     27.890000     53.850000     73.470000    120.650000   \n",
       "75%       82.062050     30.470000     57.140000     74.750000    126.000000   \n",
       "max       83.630000     32.930000     62.130000     77.120000    133.450000   \n",
       "\n",
       "           NYSE.ZTS  \n",
       "count  41266.000000  \n",
       "mean      60.183874  \n",
       "std        3.346887  \n",
       "min       52.300000  \n",
       "25%       59.620000  \n",
       "50%       61.585600  \n",
       "75%       62.540000  \n",
       "max       63.840000  \n",
       "\n",
       "[8 rows x 502 columns]"
      ]
     },
     "execution_count": 17,
     "metadata": {},
     "output_type": "execute_result"
    }
   ],
   "source": [
    "df.describe()"
   ]
  },
  {
   "cell_type": "code",
   "execution_count": 18,
   "metadata": {},
   "outputs": [],
   "source": [
    "df['DATE'] = pd.to_datetime(df['DATE'],unit='s')\n"
   ]
  },
  {
   "cell_type": "code",
   "execution_count": 19,
   "metadata": {},
   "outputs": [
    {
     "data": {
      "text/html": [
       "<div>\n",
       "<style scoped>\n",
       "    .dataframe tbody tr th:only-of-type {\n",
       "        vertical-align: middle;\n",
       "    }\n",
       "\n",
       "    .dataframe tbody tr th {\n",
       "        vertical-align: top;\n",
       "    }\n",
       "\n",
       "    .dataframe thead th {\n",
       "        text-align: right;\n",
       "    }\n",
       "</style>\n",
       "<table border=\"1\" class=\"dataframe\">\n",
       "  <thead>\n",
       "    <tr style=\"text-align: right;\">\n",
       "      <th></th>\n",
       "      <th>DATE</th>\n",
       "      <th>SP500</th>\n",
       "      <th>NASDAQ.AAL</th>\n",
       "      <th>NASDAQ.AAPL</th>\n",
       "      <th>NASDAQ.ADBE</th>\n",
       "      <th>NASDAQ.ADI</th>\n",
       "      <th>NASDAQ.ADP</th>\n",
       "      <th>NASDAQ.ADSK</th>\n",
       "      <th>NASDAQ.AKAM</th>\n",
       "      <th>NASDAQ.ALXN</th>\n",
       "      <th>...</th>\n",
       "      <th>NYSE.WYN</th>\n",
       "      <th>NYSE.XEC</th>\n",
       "      <th>NYSE.XEL</th>\n",
       "      <th>NYSE.XL</th>\n",
       "      <th>NYSE.XOM</th>\n",
       "      <th>NYSE.XRX</th>\n",
       "      <th>NYSE.XYL</th>\n",
       "      <th>NYSE.YUM</th>\n",
       "      <th>NYSE.ZBH</th>\n",
       "      <th>NYSE.ZTS</th>\n",
       "    </tr>\n",
       "  </thead>\n",
       "  <tbody>\n",
       "    <tr>\n",
       "      <th>0</th>\n",
       "      <td>2017-04-03 13:30:00</td>\n",
       "      <td>2363.6101</td>\n",
       "      <td>42.3300</td>\n",
       "      <td>143.6800</td>\n",
       "      <td>129.6300</td>\n",
       "      <td>82.040</td>\n",
       "      <td>102.2300</td>\n",
       "      <td>85.2200</td>\n",
       "      <td>59.760</td>\n",
       "      <td>121.52</td>\n",
       "      <td>...</td>\n",
       "      <td>84.370</td>\n",
       "      <td>119.035</td>\n",
       "      <td>44.40</td>\n",
       "      <td>39.88</td>\n",
       "      <td>82.03</td>\n",
       "      <td>7.36</td>\n",
       "      <td>50.22</td>\n",
       "      <td>63.86</td>\n",
       "      <td>122.000</td>\n",
       "      <td>53.350</td>\n",
       "    </tr>\n",
       "    <tr>\n",
       "      <th>1</th>\n",
       "      <td>2017-04-03 13:31:00</td>\n",
       "      <td>2364.1001</td>\n",
       "      <td>42.3600</td>\n",
       "      <td>143.7000</td>\n",
       "      <td>130.3200</td>\n",
       "      <td>82.080</td>\n",
       "      <td>102.1400</td>\n",
       "      <td>85.6500</td>\n",
       "      <td>59.840</td>\n",
       "      <td>121.48</td>\n",
       "      <td>...</td>\n",
       "      <td>84.370</td>\n",
       "      <td>119.035</td>\n",
       "      <td>44.11</td>\n",
       "      <td>39.88</td>\n",
       "      <td>82.03</td>\n",
       "      <td>7.38</td>\n",
       "      <td>50.22</td>\n",
       "      <td>63.74</td>\n",
       "      <td>121.770</td>\n",
       "      <td>53.350</td>\n",
       "    </tr>\n",
       "    <tr>\n",
       "      <th>2</th>\n",
       "      <td>2017-04-03 13:32:00</td>\n",
       "      <td>2362.6799</td>\n",
       "      <td>42.3100</td>\n",
       "      <td>143.6901</td>\n",
       "      <td>130.2250</td>\n",
       "      <td>82.030</td>\n",
       "      <td>102.2125</td>\n",
       "      <td>85.5100</td>\n",
       "      <td>59.795</td>\n",
       "      <td>121.93</td>\n",
       "      <td>...</td>\n",
       "      <td>84.585</td>\n",
       "      <td>119.260</td>\n",
       "      <td>44.09</td>\n",
       "      <td>39.98</td>\n",
       "      <td>82.02</td>\n",
       "      <td>7.36</td>\n",
       "      <td>50.12</td>\n",
       "      <td>63.75</td>\n",
       "      <td>121.700</td>\n",
       "      <td>53.365</td>\n",
       "    </tr>\n",
       "    <tr>\n",
       "      <th>3</th>\n",
       "      <td>2017-04-03 13:33:00</td>\n",
       "      <td>2364.3101</td>\n",
       "      <td>42.3700</td>\n",
       "      <td>143.6400</td>\n",
       "      <td>130.0729</td>\n",
       "      <td>82.000</td>\n",
       "      <td>102.1400</td>\n",
       "      <td>85.4872</td>\n",
       "      <td>59.620</td>\n",
       "      <td>121.44</td>\n",
       "      <td>...</td>\n",
       "      <td>84.460</td>\n",
       "      <td>119.260</td>\n",
       "      <td>44.25</td>\n",
       "      <td>39.99</td>\n",
       "      <td>82.02</td>\n",
       "      <td>7.35</td>\n",
       "      <td>50.16</td>\n",
       "      <td>63.88</td>\n",
       "      <td>121.700</td>\n",
       "      <td>53.380</td>\n",
       "    </tr>\n",
       "    <tr>\n",
       "      <th>4</th>\n",
       "      <td>2017-04-03 13:34:00</td>\n",
       "      <td>2364.8501</td>\n",
       "      <td>42.5378</td>\n",
       "      <td>143.6600</td>\n",
       "      <td>129.8800</td>\n",
       "      <td>82.035</td>\n",
       "      <td>102.0600</td>\n",
       "      <td>85.7001</td>\n",
       "      <td>59.620</td>\n",
       "      <td>121.60</td>\n",
       "      <td>...</td>\n",
       "      <td>84.470</td>\n",
       "      <td>119.610</td>\n",
       "      <td>44.11</td>\n",
       "      <td>39.96</td>\n",
       "      <td>82.03</td>\n",
       "      <td>7.36</td>\n",
       "      <td>50.20</td>\n",
       "      <td>63.91</td>\n",
       "      <td>121.695</td>\n",
       "      <td>53.240</td>\n",
       "    </tr>\n",
       "  </tbody>\n",
       "</table>\n",
       "<p>5 rows × 502 columns</p>\n",
       "</div>"
      ],
      "text/plain": [
       "                 DATE      SP500  NASDAQ.AAL  NASDAQ.AAPL  NASDAQ.ADBE  \\\n",
       "0 2017-04-03 13:30:00  2363.6101     42.3300     143.6800     129.6300   \n",
       "1 2017-04-03 13:31:00  2364.1001     42.3600     143.7000     130.3200   \n",
       "2 2017-04-03 13:32:00  2362.6799     42.3100     143.6901     130.2250   \n",
       "3 2017-04-03 13:33:00  2364.3101     42.3700     143.6400     130.0729   \n",
       "4 2017-04-03 13:34:00  2364.8501     42.5378     143.6600     129.8800   \n",
       "\n",
       "   NASDAQ.ADI  NASDAQ.ADP  NASDAQ.ADSK  NASDAQ.AKAM  NASDAQ.ALXN  ...  \\\n",
       "0      82.040    102.2300      85.2200       59.760       121.52  ...   \n",
       "1      82.080    102.1400      85.6500       59.840       121.48  ...   \n",
       "2      82.030    102.2125      85.5100       59.795       121.93  ...   \n",
       "3      82.000    102.1400      85.4872       59.620       121.44  ...   \n",
       "4      82.035    102.0600      85.7001       59.620       121.60  ...   \n",
       "\n",
       "   NYSE.WYN  NYSE.XEC  NYSE.XEL  NYSE.XL  NYSE.XOM  NYSE.XRX  NYSE.XYL  \\\n",
       "0    84.370   119.035     44.40    39.88     82.03      7.36     50.22   \n",
       "1    84.370   119.035     44.11    39.88     82.03      7.38     50.22   \n",
       "2    84.585   119.260     44.09    39.98     82.02      7.36     50.12   \n",
       "3    84.460   119.260     44.25    39.99     82.02      7.35     50.16   \n",
       "4    84.470   119.610     44.11    39.96     82.03      7.36     50.20   \n",
       "\n",
       "   NYSE.YUM  NYSE.ZBH  NYSE.ZTS  \n",
       "0     63.86   122.000    53.350  \n",
       "1     63.74   121.770    53.350  \n",
       "2     63.75   121.700    53.365  \n",
       "3     63.88   121.700    53.380  \n",
       "4     63.91   121.695    53.240  \n",
       "\n",
       "[5 rows x 502 columns]"
      ]
     },
     "execution_count": 19,
     "metadata": {},
     "output_type": "execute_result"
    }
   ],
   "source": [
    "df.head()"
   ]
  },
  {
   "cell_type": "code",
   "execution_count": 20,
   "metadata": {},
   "outputs": [],
   "source": [
    "stock_data=df.copy()"
   ]
  },
  {
   "cell_type": "code",
   "execution_count": 21,
   "metadata": {},
   "outputs": [],
   "source": [
    "# Create DF_list1 -> Dictionary which contains all the stocks data items with the Closing values\n",
    "DF_list = {}\n",
    "DF_list1 = {}\n",
    "df2 = pd.DataFrame()\n",
    "for column in stock_data.columns[1:]:\n",
    "    try :\n",
    "        df_col = column.split('.')[1]\n",
    "        #print(df_col)\n",
    "    except :\n",
    "        df_col = column        \n",
    "        \n",
    "    Open = stock_data.groupby([stock_data['DATE'].dt.date])[column].first()\n",
    "    Low = stock_data.groupby([stock_data['DATE'].dt.date])[column].min()\n",
    "    High = stock_data.groupby([stock_data['DATE'].dt.date])[column].max()\n",
    "    Close = stock_data.groupby([stock_data['DATE'].dt.date])[column].last()\n",
    "        \n",
    "    df = pd.DataFrame([Open,Close,Low,High])\n",
    "    #df1 = pd.concat([df1,Close])\n",
    "    df1 = pd.DataFrame([Close])\n",
    "    \n",
    "    df = df.transpose()\n",
    "    df1 = df1.transpose()\n",
    "    \n",
    "    df.columns = ['Open','Low','High','Close']\n",
    "    df1.columns = [df_col]\n",
    "    \n",
    "    DF_list[df_col] = df\n",
    "    DF_list1[df_col] = df1"
   ]
  },
  {
   "cell_type": "code",
   "execution_count": 22,
   "metadata": {},
   "outputs": [
    {
     "data": {
      "text/html": [
       "<div>\n",
       "<style scoped>\n",
       "    .dataframe tbody tr th:only-of-type {\n",
       "        vertical-align: middle;\n",
       "    }\n",
       "\n",
       "    .dataframe tbody tr th {\n",
       "        vertical-align: top;\n",
       "    }\n",
       "\n",
       "    .dataframe thead th {\n",
       "        text-align: right;\n",
       "    }\n",
       "</style>\n",
       "<table border=\"1\" class=\"dataframe\">\n",
       "  <thead>\n",
       "    <tr style=\"text-align: right;\">\n",
       "      <th></th>\n",
       "      <th>DATE</th>\n",
       "      <th>AAL</th>\n",
       "      <th>SP500</th>\n",
       "      <th>AAPL</th>\n",
       "      <th>ADBE</th>\n",
       "      <th>ADI</th>\n",
       "      <th>ADP</th>\n",
       "      <th>ADSK</th>\n",
       "      <th>AKAM</th>\n",
       "      <th>ALXN</th>\n",
       "      <th>...</th>\n",
       "      <th>WYN</th>\n",
       "      <th>XEC</th>\n",
       "      <th>XEL</th>\n",
       "      <th>XL</th>\n",
       "      <th>XOM</th>\n",
       "      <th>XRX</th>\n",
       "      <th>XYL</th>\n",
       "      <th>YUM</th>\n",
       "      <th>ZBH</th>\n",
       "      <th>ZTS</th>\n",
       "    </tr>\n",
       "  </thead>\n",
       "  <tbody>\n",
       "    <tr>\n",
       "      <th>0</th>\n",
       "      <td>2017-04-03</td>\n",
       "      <td>42.48</td>\n",
       "      <td>2358.9600</td>\n",
       "      <td>143.700</td>\n",
       "      <td>129.62</td>\n",
       "      <td>81.22</td>\n",
       "      <td>101.27</td>\n",
       "      <td>85.39</td>\n",
       "      <td>58.10</td>\n",
       "      <td>119.28</td>\n",
       "      <td>...</td>\n",
       "      <td>84.01</td>\n",
       "      <td>118.11</td>\n",
       "      <td>44.39</td>\n",
       "      <td>39.39</td>\n",
       "      <td>82.08</td>\n",
       "      <td>7.25</td>\n",
       "      <td>49.43</td>\n",
       "      <td>63.55</td>\n",
       "      <td>121.35</td>\n",
       "      <td>53.175</td>\n",
       "    </tr>\n",
       "    <tr>\n",
       "      <th>1</th>\n",
       "      <td>2017-04-04</td>\n",
       "      <td>40.90</td>\n",
       "      <td>2359.9600</td>\n",
       "      <td>144.770</td>\n",
       "      <td>130.04</td>\n",
       "      <td>81.24</td>\n",
       "      <td>101.45</td>\n",
       "      <td>84.95</td>\n",
       "      <td>59.30</td>\n",
       "      <td>118.30</td>\n",
       "      <td>...</td>\n",
       "      <td>84.18</td>\n",
       "      <td>119.92</td>\n",
       "      <td>44.50</td>\n",
       "      <td>39.71</td>\n",
       "      <td>82.34</td>\n",
       "      <td>7.22</td>\n",
       "      <td>50.36</td>\n",
       "      <td>63.84</td>\n",
       "      <td>120.78</td>\n",
       "      <td>52.640</td>\n",
       "    </tr>\n",
       "    <tr>\n",
       "      <th>2</th>\n",
       "      <td>2017-04-05</td>\n",
       "      <td>41.31</td>\n",
       "      <td>2352.8401</td>\n",
       "      <td>144.020</td>\n",
       "      <td>129.89</td>\n",
       "      <td>80.04</td>\n",
       "      <td>101.93</td>\n",
       "      <td>83.54</td>\n",
       "      <td>58.80</td>\n",
       "      <td>116.21</td>\n",
       "      <td>...</td>\n",
       "      <td>84.34</td>\n",
       "      <td>117.65</td>\n",
       "      <td>44.81</td>\n",
       "      <td>39.37</td>\n",
       "      <td>82.53</td>\n",
       "      <td>7.15</td>\n",
       "      <td>50.41</td>\n",
       "      <td>63.87</td>\n",
       "      <td>120.17</td>\n",
       "      <td>52.670</td>\n",
       "    </tr>\n",
       "    <tr>\n",
       "      <th>3</th>\n",
       "      <td>2017-04-06</td>\n",
       "      <td>41.72</td>\n",
       "      <td>2357.6699</td>\n",
       "      <td>143.685</td>\n",
       "      <td>130.15</td>\n",
       "      <td>80.32</td>\n",
       "      <td>101.75</td>\n",
       "      <td>84.07</td>\n",
       "      <td>58.73</td>\n",
       "      <td>115.49</td>\n",
       "      <td>...</td>\n",
       "      <td>85.17</td>\n",
       "      <td>118.14</td>\n",
       "      <td>44.60</td>\n",
       "      <td>39.80</td>\n",
       "      <td>83.02</td>\n",
       "      <td>7.13</td>\n",
       "      <td>50.93</td>\n",
       "      <td>64.56</td>\n",
       "      <td>120.22</td>\n",
       "      <td>52.680</td>\n",
       "    </tr>\n",
       "    <tr>\n",
       "      <th>4</th>\n",
       "      <td>2017-04-07</td>\n",
       "      <td>41.81</td>\n",
       "      <td>2355.6899</td>\n",
       "      <td>143.340</td>\n",
       "      <td>130.22</td>\n",
       "      <td>80.01</td>\n",
       "      <td>102.19</td>\n",
       "      <td>84.79</td>\n",
       "      <td>58.10</td>\n",
       "      <td>115.62</td>\n",
       "      <td>...</td>\n",
       "      <td>84.69</td>\n",
       "      <td>118.22</td>\n",
       "      <td>44.40</td>\n",
       "      <td>39.82</td>\n",
       "      <td>82.78</td>\n",
       "      <td>7.13</td>\n",
       "      <td>50.84</td>\n",
       "      <td>64.28</td>\n",
       "      <td>119.88</td>\n",
       "      <td>52.550</td>\n",
       "    </tr>\n",
       "  </tbody>\n",
       "</table>\n",
       "<p>5 rows × 502 columns</p>\n",
       "</div>"
      ],
      "text/plain": [
       "         DATE    AAL      SP500     AAPL    ADBE    ADI     ADP   ADSK   AKAM  \\\n",
       "0  2017-04-03  42.48  2358.9600  143.700  129.62  81.22  101.27  85.39  58.10   \n",
       "1  2017-04-04  40.90  2359.9600  144.770  130.04  81.24  101.45  84.95  59.30   \n",
       "2  2017-04-05  41.31  2352.8401  144.020  129.89  80.04  101.93  83.54  58.80   \n",
       "3  2017-04-06  41.72  2357.6699  143.685  130.15  80.32  101.75  84.07  58.73   \n",
       "4  2017-04-07  41.81  2355.6899  143.340  130.22  80.01  102.19  84.79  58.10   \n",
       "\n",
       "     ALXN  ...    WYN     XEC    XEL     XL    XOM   XRX    XYL    YUM  \\\n",
       "0  119.28  ...  84.01  118.11  44.39  39.39  82.08  7.25  49.43  63.55   \n",
       "1  118.30  ...  84.18  119.92  44.50  39.71  82.34  7.22  50.36  63.84   \n",
       "2  116.21  ...  84.34  117.65  44.81  39.37  82.53  7.15  50.41  63.87   \n",
       "3  115.49  ...  85.17  118.14  44.60  39.80  83.02  7.13  50.93  64.56   \n",
       "4  115.62  ...  84.69  118.22  44.40  39.82  82.78  7.13  50.84  64.28   \n",
       "\n",
       "      ZBH     ZTS  \n",
       "0  121.35  53.175  \n",
       "1  120.78  52.640  \n",
       "2  120.17  52.670  \n",
       "3  120.22  52.680  \n",
       "4  119.88  52.550  \n",
       "\n",
       "[5 rows x 502 columns]"
      ]
     },
     "execution_count": 22,
     "metadata": {},
     "output_type": "execute_result"
    }
   ],
   "source": [
    "# Create a DataFrame df5 (Merge all the stock data present in the dictionary DF_list1)\n",
    "df5 = DF_list1['AAL'].reset_index()\n",
    "for item in DF_list1.keys():\n",
    "   \n",
    "    df5 = pd.merge(df5,DF_list1[item].reset_index())\n",
    "StockPriceData = df5.drop('DATE', axis=1)\n",
    "StockPriceData.index = pd.to_datetime(StockPriceData.index)\n",
    "df5.head()"
   ]
  },
  {
   "cell_type": "code",
   "execution_count": 23,
   "metadata": {},
   "outputs": [],
   "source": [
    "df5['DATE'] = pd.to_datetime(df5['DATE'])"
   ]
  },
  {
   "cell_type": "code",
   "execution_count": 24,
   "metadata": {},
   "outputs": [],
   "source": [
    "df5.set_index('DATE',inplace=True)\n",
    "StockPriceData=df5"
   ]
  },
  {
   "cell_type": "code",
   "execution_count": 25,
   "metadata": {},
   "outputs": [
    {
     "data": {
      "text/plain": [
       "DatetimeIndex(['2017-04-03', '2017-04-04', '2017-04-05', '2017-04-06',\n",
       "               '2017-04-07', '2017-04-10', '2017-04-11', '2017-04-12',\n",
       "               '2017-04-13', '2017-04-17',\n",
       "               ...\n",
       "               '2017-08-18', '2017-08-21', '2017-08-22', '2017-08-23',\n",
       "               '2017-08-24', '2017-08-25', '2017-08-28', '2017-08-29',\n",
       "               '2017-08-30', '2017-08-31'],\n",
       "              dtype='datetime64[ns]', name='DATE', length=106, freq=None)"
      ]
     },
     "execution_count": 25,
     "metadata": {},
     "output_type": "execute_result"
    }
   ],
   "source": [
    "StockPriceData.index\n"
   ]
  },
  {
   "cell_type": "code",
   "execution_count": 26,
   "metadata": {},
   "outputs": [
    {
     "data": {
      "text/html": [
       "<div>\n",
       "<style scoped>\n",
       "    .dataframe tbody tr th:only-of-type {\n",
       "        vertical-align: middle;\n",
       "    }\n",
       "\n",
       "    .dataframe tbody tr th {\n",
       "        vertical-align: top;\n",
       "    }\n",
       "\n",
       "    .dataframe thead th {\n",
       "        text-align: right;\n",
       "    }\n",
       "</style>\n",
       "<table border=\"1\" class=\"dataframe\">\n",
       "  <thead>\n",
       "    <tr style=\"text-align: right;\">\n",
       "      <th></th>\n",
       "      <th>AAL</th>\n",
       "      <th>SP500</th>\n",
       "      <th>AAPL</th>\n",
       "      <th>ADBE</th>\n",
       "      <th>ADI</th>\n",
       "      <th>ADP</th>\n",
       "      <th>ADSK</th>\n",
       "      <th>AKAM</th>\n",
       "      <th>ALXN</th>\n",
       "      <th>AMAT</th>\n",
       "      <th>...</th>\n",
       "      <th>WYN</th>\n",
       "      <th>XEC</th>\n",
       "      <th>XEL</th>\n",
       "      <th>XL</th>\n",
       "      <th>XOM</th>\n",
       "      <th>XRX</th>\n",
       "      <th>XYL</th>\n",
       "      <th>YUM</th>\n",
       "      <th>ZBH</th>\n",
       "      <th>ZTS</th>\n",
       "    </tr>\n",
       "    <tr>\n",
       "      <th>DATE</th>\n",
       "      <th></th>\n",
       "      <th></th>\n",
       "      <th></th>\n",
       "      <th></th>\n",
       "      <th></th>\n",
       "      <th></th>\n",
       "      <th></th>\n",
       "      <th></th>\n",
       "      <th></th>\n",
       "      <th></th>\n",
       "      <th></th>\n",
       "      <th></th>\n",
       "      <th></th>\n",
       "      <th></th>\n",
       "      <th></th>\n",
       "      <th></th>\n",
       "      <th></th>\n",
       "      <th></th>\n",
       "      <th></th>\n",
       "      <th></th>\n",
       "      <th></th>\n",
       "    </tr>\n",
       "  </thead>\n",
       "  <tbody>\n",
       "    <tr>\n",
       "      <th>2017-04-03</th>\n",
       "      <td>42.48</td>\n",
       "      <td>2358.9600</td>\n",
       "      <td>143.700</td>\n",
       "      <td>129.62</td>\n",
       "      <td>81.22</td>\n",
       "      <td>101.27</td>\n",
       "      <td>85.39</td>\n",
       "      <td>58.10</td>\n",
       "      <td>119.28</td>\n",
       "      <td>38.89</td>\n",
       "      <td>...</td>\n",
       "      <td>84.01</td>\n",
       "      <td>118.11</td>\n",
       "      <td>44.39</td>\n",
       "      <td>39.39</td>\n",
       "      <td>82.08</td>\n",
       "      <td>7.25</td>\n",
       "      <td>49.43</td>\n",
       "      <td>63.55</td>\n",
       "      <td>121.35</td>\n",
       "      <td>53.175</td>\n",
       "    </tr>\n",
       "    <tr>\n",
       "      <th>2017-04-04</th>\n",
       "      <td>40.90</td>\n",
       "      <td>2359.9600</td>\n",
       "      <td>144.770</td>\n",
       "      <td>130.04</td>\n",
       "      <td>81.24</td>\n",
       "      <td>101.45</td>\n",
       "      <td>84.95</td>\n",
       "      <td>59.30</td>\n",
       "      <td>118.30</td>\n",
       "      <td>39.00</td>\n",
       "      <td>...</td>\n",
       "      <td>84.18</td>\n",
       "      <td>119.92</td>\n",
       "      <td>44.50</td>\n",
       "      <td>39.71</td>\n",
       "      <td>82.34</td>\n",
       "      <td>7.22</td>\n",
       "      <td>50.36</td>\n",
       "      <td>63.84</td>\n",
       "      <td>120.78</td>\n",
       "      <td>52.640</td>\n",
       "    </tr>\n",
       "    <tr>\n",
       "      <th>2017-04-05</th>\n",
       "      <td>41.31</td>\n",
       "      <td>2352.8401</td>\n",
       "      <td>144.020</td>\n",
       "      <td>129.89</td>\n",
       "      <td>80.04</td>\n",
       "      <td>101.93</td>\n",
       "      <td>83.54</td>\n",
       "      <td>58.80</td>\n",
       "      <td>116.21</td>\n",
       "      <td>38.38</td>\n",
       "      <td>...</td>\n",
       "      <td>84.34</td>\n",
       "      <td>117.65</td>\n",
       "      <td>44.81</td>\n",
       "      <td>39.37</td>\n",
       "      <td>82.53</td>\n",
       "      <td>7.15</td>\n",
       "      <td>50.41</td>\n",
       "      <td>63.87</td>\n",
       "      <td>120.17</td>\n",
       "      <td>52.670</td>\n",
       "    </tr>\n",
       "    <tr>\n",
       "      <th>2017-04-06</th>\n",
       "      <td>41.72</td>\n",
       "      <td>2357.6699</td>\n",
       "      <td>143.685</td>\n",
       "      <td>130.15</td>\n",
       "      <td>80.32</td>\n",
       "      <td>101.75</td>\n",
       "      <td>84.07</td>\n",
       "      <td>58.73</td>\n",
       "      <td>115.49</td>\n",
       "      <td>38.59</td>\n",
       "      <td>...</td>\n",
       "      <td>85.17</td>\n",
       "      <td>118.14</td>\n",
       "      <td>44.60</td>\n",
       "      <td>39.80</td>\n",
       "      <td>83.02</td>\n",
       "      <td>7.13</td>\n",
       "      <td>50.93</td>\n",
       "      <td>64.56</td>\n",
       "      <td>120.22</td>\n",
       "      <td>52.680</td>\n",
       "    </tr>\n",
       "    <tr>\n",
       "      <th>2017-04-07</th>\n",
       "      <td>41.81</td>\n",
       "      <td>2355.6899</td>\n",
       "      <td>143.340</td>\n",
       "      <td>130.22</td>\n",
       "      <td>80.01</td>\n",
       "      <td>102.19</td>\n",
       "      <td>84.79</td>\n",
       "      <td>58.10</td>\n",
       "      <td>115.62</td>\n",
       "      <td>38.93</td>\n",
       "      <td>...</td>\n",
       "      <td>84.69</td>\n",
       "      <td>118.22</td>\n",
       "      <td>44.40</td>\n",
       "      <td>39.82</td>\n",
       "      <td>82.78</td>\n",
       "      <td>7.13</td>\n",
       "      <td>50.84</td>\n",
       "      <td>64.28</td>\n",
       "      <td>119.88</td>\n",
       "      <td>52.550</td>\n",
       "    </tr>\n",
       "  </tbody>\n",
       "</table>\n",
       "<p>5 rows × 501 columns</p>\n",
       "</div>"
      ],
      "text/plain": [
       "              AAL      SP500     AAPL    ADBE    ADI     ADP   ADSK   AKAM  \\\n",
       "DATE                                                                         \n",
       "2017-04-03  42.48  2358.9600  143.700  129.62  81.22  101.27  85.39  58.10   \n",
       "2017-04-04  40.90  2359.9600  144.770  130.04  81.24  101.45  84.95  59.30   \n",
       "2017-04-05  41.31  2352.8401  144.020  129.89  80.04  101.93  83.54  58.80   \n",
       "2017-04-06  41.72  2357.6699  143.685  130.15  80.32  101.75  84.07  58.73   \n",
       "2017-04-07  41.81  2355.6899  143.340  130.22  80.01  102.19  84.79  58.10   \n",
       "\n",
       "              ALXN   AMAT  ...    WYN     XEC    XEL     XL    XOM   XRX  \\\n",
       "DATE                       ...                                             \n",
       "2017-04-03  119.28  38.89  ...  84.01  118.11  44.39  39.39  82.08  7.25   \n",
       "2017-04-04  118.30  39.00  ...  84.18  119.92  44.50  39.71  82.34  7.22   \n",
       "2017-04-05  116.21  38.38  ...  84.34  117.65  44.81  39.37  82.53  7.15   \n",
       "2017-04-06  115.49  38.59  ...  85.17  118.14  44.60  39.80  83.02  7.13   \n",
       "2017-04-07  115.62  38.93  ...  84.69  118.22  44.40  39.82  82.78  7.13   \n",
       "\n",
       "              XYL    YUM     ZBH     ZTS  \n",
       "DATE                                      \n",
       "2017-04-03  49.43  63.55  121.35  53.175  \n",
       "2017-04-04  50.36  63.84  120.78  52.640  \n",
       "2017-04-05  50.41  63.87  120.17  52.670  \n",
       "2017-04-06  50.93  64.56  120.22  52.680  \n",
       "2017-04-07  50.84  64.28  119.88  52.550  \n",
       "\n",
       "[5 rows x 501 columns]"
      ]
     },
     "execution_count": 26,
     "metadata": {},
     "output_type": "execute_result"
    }
   ],
   "source": [
    "StockPriceData.head()\n"
   ]
  },
  {
   "cell_type": "code",
   "execution_count": 27,
   "metadata": {},
   "outputs": [],
   "source": [
    "#take the apple price and forecase\n",
    "stockAPPL=pd.DataFrame(StockPriceData.AAPL)"
   ]
  },
  {
   "cell_type": "code",
   "execution_count": 28,
   "metadata": {},
   "outputs": [
    {
     "data": {
      "text/html": [
       "<div>\n",
       "<style scoped>\n",
       "    .dataframe tbody tr th:only-of-type {\n",
       "        vertical-align: middle;\n",
       "    }\n",
       "\n",
       "    .dataframe tbody tr th {\n",
       "        vertical-align: top;\n",
       "    }\n",
       "\n",
       "    .dataframe thead th {\n",
       "        text-align: right;\n",
       "    }\n",
       "</style>\n",
       "<table border=\"1\" class=\"dataframe\">\n",
       "  <thead>\n",
       "    <tr style=\"text-align: right;\">\n",
       "      <th></th>\n",
       "      <th>AAPL</th>\n",
       "    </tr>\n",
       "    <tr>\n",
       "      <th>DATE</th>\n",
       "      <th></th>\n",
       "    </tr>\n",
       "  </thead>\n",
       "  <tbody>\n",
       "    <tr>\n",
       "      <th>2017-04-03</th>\n",
       "      <td>143.700</td>\n",
       "    </tr>\n",
       "    <tr>\n",
       "      <th>2017-04-04</th>\n",
       "      <td>144.770</td>\n",
       "    </tr>\n",
       "    <tr>\n",
       "      <th>2017-04-05</th>\n",
       "      <td>144.020</td>\n",
       "    </tr>\n",
       "    <tr>\n",
       "      <th>2017-04-06</th>\n",
       "      <td>143.685</td>\n",
       "    </tr>\n",
       "    <tr>\n",
       "      <th>2017-04-07</th>\n",
       "      <td>143.340</td>\n",
       "    </tr>\n",
       "  </tbody>\n",
       "</table>\n",
       "</div>"
      ],
      "text/plain": [
       "               AAPL\n",
       "DATE               \n",
       "2017-04-03  143.700\n",
       "2017-04-04  144.770\n",
       "2017-04-05  144.020\n",
       "2017-04-06  143.685\n",
       "2017-04-07  143.340"
      ]
     },
     "execution_count": 28,
     "metadata": {},
     "output_type": "execute_result"
    }
   ],
   "source": [
    "stockAPPL.head()\n"
   ]
  },
  {
   "cell_type": "code",
   "execution_count": 29,
   "metadata": {},
   "outputs": [
    {
     "data": {
      "text/html": [
       "<div>\n",
       "<style scoped>\n",
       "    .dataframe tbody tr th:only-of-type {\n",
       "        vertical-align: middle;\n",
       "    }\n",
       "\n",
       "    .dataframe tbody tr th {\n",
       "        vertical-align: top;\n",
       "    }\n",
       "\n",
       "    .dataframe thead th {\n",
       "        text-align: right;\n",
       "    }\n",
       "</style>\n",
       "<table border=\"1\" class=\"dataframe\">\n",
       "  <thead>\n",
       "    <tr style=\"text-align: right;\">\n",
       "      <th></th>\n",
       "      <th>count</th>\n",
       "      <th>mean</th>\n",
       "      <th>std</th>\n",
       "      <th>min</th>\n",
       "      <th>25%</th>\n",
       "      <th>50%</th>\n",
       "      <th>75%</th>\n",
       "      <th>max</th>\n",
       "    </tr>\n",
       "  </thead>\n",
       "  <tbody>\n",
       "    <tr>\n",
       "      <th>AAPL</th>\n",
       "      <td>106.0</td>\n",
       "      <td>150.372602</td>\n",
       "      <td>6.271409</td>\n",
       "      <td>140.68</td>\n",
       "      <td>144.5975</td>\n",
       "      <td>150.065</td>\n",
       "      <td>155.2375</td>\n",
       "      <td>163.98</td>\n",
       "    </tr>\n",
       "  </tbody>\n",
       "</table>\n",
       "</div>"
      ],
      "text/plain": [
       "      count        mean       std     min       25%      50%       75%     max\n",
       "AAPL  106.0  150.372602  6.271409  140.68  144.5975  150.065  155.2375  163.98"
      ]
     },
     "execution_count": 29,
     "metadata": {},
     "output_type": "execute_result"
    }
   ],
   "source": [
    "stockAPPL.describe().transpose()"
   ]
  },
  {
   "cell_type": "code",
   "execution_count": 30,
   "metadata": {},
   "outputs": [],
   "source": [
    "#Creating a column 'AAPL_LOG' with the log values of 'NASDAQ.AAPL' column data\n",
    "stockAPPL[\"AAPL_LOG\"] =stockAPPL['AAPL'].apply(lambda x:np.log(x))"
   ]
  },
  {
   "cell_type": "code",
   "execution_count": 31,
   "metadata": {},
   "outputs": [],
   "source": [
    "StockPriceAPPL=stockAPPL.drop('AAPL',axis=1)"
   ]
  },
  {
   "cell_type": "code",
   "execution_count": 32,
   "metadata": {},
   "outputs": [
    {
     "data": {
      "text/plain": [
       "DATE\n",
       "2017-04-03    4.967728\n",
       "2017-04-04    4.975146\n",
       "2017-04-05    4.969952\n",
       "2017-04-06    4.967623\n",
       "2017-04-07    4.965219\n",
       "                ...   \n",
       "2017-08-25    5.074298\n",
       "2017-08-28    5.084319\n",
       "2017-08-29    5.093566\n",
       "2017-08-30    5.095895\n",
       "2017-08-31    5.099744\n",
       "Name: AAPL_LOG, Length: 106, dtype: float64"
      ]
     },
     "execution_count": 32,
     "metadata": {},
     "output_type": "execute_result"
    }
   ],
   "source": [
    "StockPriceAPPL[\"AAPL_LOG\"]"
   ]
  },
  {
   "cell_type": "markdown",
   "metadata": {},
   "source": [
    "stock data set contain the stock price data between 2017-04-03 to 2017-08-31"
   ]
  },
  {
   "cell_type": "code",
   "execution_count": 33,
   "metadata": {},
   "outputs": [
    {
     "data": {
      "text/plain": [
       "[<matplotlib.lines.Line2D at 0x1e295202f88>]"
      ]
     },
     "execution_count": 33,
     "metadata": {},
     "output_type": "execute_result"
    },
    {
     "data": {
      "image/png": "[encoded data removed]",
      "text/plain": [
       "<Figure size 864x576 with 1 Axes>"
      ]
     },
     "metadata": {
      "needs_background": "light"
     },
     "output_type": "display_data"
    }
   ],
   "source": [
    "#plot stock AAL\n",
    "plt.figure(figsize=(12,8))\n",
    "#plt.style.use('fivethirtyeight')\n",
    "plt.plot(StockPriceAPPL[\"AAPL_LOG\"])"
   ]
  },
  {
   "cell_type": "markdown",
   "metadata": {},
   "source": [
    "# Plotting Rolling Statistics and check for stationarity :\n",
    "\n",
    "The function will plot the moving mean or moving Standard Deviation. This is still visual method\n",
    "\n",
    "NOTE: moving mean and moving standard deviation — At any instant ‘t’, we take the mean/std of the last year which in this case is 12 months)"
   ]
  },
  {
   "cell_type": "code",
   "execution_count": 34,
   "metadata": {},
   "outputs": [
    {
     "data": {
      "image/png": "[encoded data removed]",
      "text/plain": [
       "<Figure size 864x576 with 1 Axes>"
      ]
     },
     "metadata": {
      "needs_background": "light"
     },
     "output_type": "display_data"
    }
   ],
   "source": [
    "rolmean = StockPriceAPPL.rolling(12).mean()\n",
    "rolstd = StockPriceAPPL.rolling(12).std()\n",
    "plt.figure(figsize=(12,8)) \n",
    "plt.plot( StockPriceAPPL, color='blue',label='Original')\n",
    "plt.plot(rolmean, color='red', label='Rolling Mean')\n",
    "plt.plot(rolstd, color='black', label = 'Rolling Std')\n",
    "plt.legend(loc='best')\n",
    "plt.title('Rolling Mean & Standard Deviation')\n",
    "plt.show()"
   ]
  },
  {
   "cell_type": "code",
   "execution_count": 35,
   "metadata": {},
   "outputs": [],
   "source": [
    "from statsmodels.tsa.stattools import adfuller\n",
    "# Store in a function for later use!\n",
    "def adf_check(time_series):\n",
    "    \"\"\"\n",
    "    Pass in a time series, returns ADF report\n",
    "    \"\"\"\n",
    "    result = adfuller(time_series)\n",
    "    print('Augmented Dickey-Fuller Test:')\n",
    "    labels = ['ADF Test Statistic','p-value','#Lags Used','Number of Observations Used']\n",
    "\n",
    "    for value,label in zip(result,labels):\n",
    "        print(label+' : '+str(value) )\n",
    "    \n",
    "    if result[1] <= 0.05:\n",
    "        print(\"strong evidence against the null hypothesis, reject the null hypothesis. Data has no unit root and is stationary\")\n",
    "    else:\n",
    "        print(\"weak evidence against null hypothesis, time series has a unit root, indicating it is non-stationary \")"
   ]
  },
  {
   "cell_type": "code",
   "execution_count": 36,
   "metadata": {},
   "outputs": [
    {
     "name": "stdout",
     "output_type": "stream",
     "text": [
      "Augmented Dickey-Fuller Test:\n",
      "ADF Test Statistic : -0.8416914217030148\n",
      "p-value : 0.8065678267040395\n",
      "#Lags Used : 6\n",
      "Number of Observations Used : 99\n",
      "weak evidence against null hypothesis, time series has a unit root, indicating it is non-stationary \n"
     ]
    }
   ],
   "source": [
    "adf_check(StockPriceAPPL[\"AAPL_LOG\"])\n"
   ]
  },
  {
   "cell_type": "code",
   "execution_count": 37,
   "metadata": {},
   "outputs": [
    {
     "data": {
      "text/plain": [
       "DATE\n",
       "2017-04-03         NaN\n",
       "2017-04-04    0.007418\n",
       "2017-04-05   -0.005194\n",
       "2017-04-06   -0.002329\n",
       "2017-04-07   -0.002404\n",
       "Name: AAPL First Diff, dtype: float64"
      ]
     },
     "execution_count": 37,
     "metadata": {},
     "output_type": "execute_result"
    }
   ],
   "source": [
    "stockAPPL['AAPL First Diff'] = StockPriceAPPL[\"AAPL_LOG\"] - StockPriceAPPL[\"AAPL_LOG\"].shift(1)\n",
    "stockAPPL['AAPL First Diff'].head()"
   ]
  },
  {
   "cell_type": "code",
   "execution_count": 38,
   "metadata": {},
   "outputs": [
    {
     "name": "stdout",
     "output_type": "stream",
     "text": [
      "Augmented Dickey-Fuller Test:\n",
      "ADF Test Statistic : -4.453733180709958\n",
      "p-value : 0.0002381644947160968\n",
      "#Lags Used : 5\n",
      "Number of Observations Used : 99\n",
      "strong evidence against the null hypothesis, reject the null hypothesis. Data has no unit root and is stationary\n"
     ]
    }
   ],
   "source": [
    "adf_check(stockAPPL['AAPL First Diff'].dropna())"
   ]
  },
  {
   "cell_type": "code",
   "execution_count": 39,
   "metadata": {},
   "outputs": [
    {
     "data": {
      "text/plain": [
       "<AxesSubplot:xlabel='DATE'>"
      ]
     },
     "execution_count": 39,
     "metadata": {},
     "output_type": "execute_result"
    },
    {
     "data": {
      "image/png": "[encoded data removed]",
      "text/plain": [
       "<Figure size 432x288 with 1 Axes>"
      ]
     },
     "metadata": {
      "needs_background": "light"
     },
     "output_type": "display_data"
    }
   ],
   "source": [
    "stockAPPL['AAPL First Diff'].plot()"
   ]
  },
  {
   "cell_type": "code",
   "execution_count": 40,
   "metadata": {},
   "outputs": [
    {
     "data": {
      "image/png": "[encoded data removed]",
      "text/plain": [
       "<Figure size 432x288 with 1 Axes>"
      ]
     },
     "metadata": {
      "needs_background": "light"
     },
     "output_type": "display_data"
    }
   ],
   "source": [
    "from statsmodels.graphics.tsaplots import plot_acf,plot_pacf\n",
    "\n",
    "fig_first = plot_acf(stockAPPL['AAPL First Diff'].dropna())"
   ]
  },
  {
   "cell_type": "code",
   "execution_count": 41,
   "metadata": {},
   "outputs": [
    {
     "data": {
      "image/png": "[encoded data removed]",
      "text/plain": [
       "<Figure size 432x288 with 1 Axes>"
      ]
     },
     "metadata": {
      "needs_background": "light"
     },
     "output_type": "display_data"
    }
   ],
   "source": [
    "result = plot_pacf(stockAPPL['AAPL First Diff'].dropna())"
   ]
  },
  {
   "cell_type": "code",
   "execution_count": 43,
   "metadata": {},
   "outputs": [
    {
     "name": "stdout",
     "output_type": "stream",
     "text": [
      "(0, 1, 0) -628.6576453107448\n",
      "(0, 1, 1) -626.6829727220231\n",
      "(0, 1, 2) -625.2223108837517\n",
      "(0, 1, 3) -628.2007750553967\n",
      "(1, 1, 0) -626.6790832023831\n",
      "(1, 1, 1) -627.0937989248106\n",
      "(1, 1, 2) -623.4762933315337\n",
      "(1, 1, 3) -628.2417299173409\n",
      "(2, 1, 0) -625.263829207532\n",
      "(2, 1, 1) -623.6929093403772\n",
      "(2, 1, 2) -632.1900850514878\n",
      "(2, 1, 3) -634.3505596491208\n",
      "(3, 1, 0) -625.4924854024349\n",
      "(3, 1, 1) -623.9642445007102\n",
      "(3, 1, 2) -633.5259190448554\n",
      "(3, 1, 3) -630.2061092039727\n",
      "(4, 1, 0) -625.5004248605296\n",
      "(4, 1, 1) -624.309858042019\n",
      "(4, 1, 2) -625.2503426248295\n",
      "(4, 1, 3) -630.7238512573183\n",
      "(5, 1, 0) -627.1189740095865\n",
      "(5, 1, 1) -632.433558797088\n",
      "(5, 1, 2) -634.1998607555543\n",
      "(5, 1, 3) -634.2610531615743\n",
      "Best Model is : (2, 1, 3)\n"
     ]
    }
   ],
   "source": [
    "import warnings\n",
    "warnings.filterwarnings('ignore')\n",
    "ararray =stockAPPL['AAPL_LOG'].values\n",
    "pdq=[]\n",
    "aic=[]\n",
    "d=1\n",
    "for p in range(6):\n",
    "    for q in range(4):\n",
    "        \n",
    "        try:\n",
    "            model = ARIMA(ararray,order=(p,d,q)) \n",
    "            arima_results = model.fit()\n",
    "            aic.append(arima_results.aic)\n",
    "            pdq.append((p,d,q))\n",
    "            print((p,d,q),arima_results.aic)\n",
    "        except:\n",
    "            continue\n",
    "keys = pdq\n",
    "values = aic\n",
    "\n",
    "d = dict(zip(keys, values))\n",
    "minaic=min(d, key=d.get)\n",
    "\n",
    "for i in range(3):\n",
    "    p=minaic[0]\n",
    "    d=minaic[1]\n",
    "    q=minaic[2]\n",
    "print (\"Best Model is :\", (p,d,q))"
   ]
  },
  {
   "cell_type": "code",
   "execution_count": 99,
   "metadata": {},
   "outputs": [
    {
     "name": "stdout",
     "output_type": "stream",
     "text": [
      "-634.3505596491208\n"
     ]
    }
   ],
   "source": [
    "from statsmodels.tsa.arima_model import ARIMA\n",
    "model_arima = ARIMA(StockPriceAPPL[\"AAPL_LOG\"],order=(2,1,3))\n",
    "model_arima_fit = model_arima.fit()\n",
    "print(model_arima_fit.aic)"
   ]
  },
  {
   "cell_type": "code",
   "execution_count": 100,
   "metadata": {},
   "outputs": [
    {
     "data": {
      "text/html": [
       "<table class=\"simpletable\">\n",
       "<tr>\n",
       "        <td>Model:</td>              <td>ARIMA</td>              <td>BIC:</td>         <td>-615.7728</td>\n",
       "</tr>\n",
       "<tr>\n",
       "  <td>Dependent Variable:</td>    <td>D.AAPL_LOG</td>       <td>Log-Likelihood:</td>    <td>324.18</td>  \n",
       "</tr>\n",
       "<tr>\n",
       "         <td>Date:</td>        <td>2021-10-13 14:50</td>        <td>Scale:</td>         <td>1.0000</td>  \n",
       "</tr>\n",
       "<tr>\n",
       "   <td>No. Observations:</td>         <td>105</td>              <td>Method:</td>        <td>css-mle</td> \n",
       "</tr>\n",
       "<tr>\n",
       "       <td>Df Model:</td>              <td>6</td>               <td>Sample:</td>           <td>1</td>    \n",
       "</tr>\n",
       "<tr>\n",
       "     <td>Df Residuals:</td>           <td>99</td>                  <td></td>               <td>6</td>    \n",
       "</tr>\n",
       "<tr>\n",
       "      <td>Converged:</td>           <td>1.0000</td>      <td>S.D. of innovations:</td>   <td>0.011</td>  \n",
       "</tr>\n",
       "<tr>\n",
       "    <td>No. Iterations:</td>        <td>76.0000</td>             <td>HQIC:</td>        <td>-626.823</td> \n",
       "</tr>\n",
       "<tr>\n",
       "         <td>AIC:</td>             <td>-634.3506</td>              <td></td>               <td></td>     \n",
       "</tr>\n",
       "</table>\n",
       "<table class=\"simpletable\">\n",
       "<tr>\n",
       "          <td></td>          <th>Coef.</th>  <th>Std.Err.</th>    <th>t</th>     <th>P>|t|</th> <th>[0.025</th>  <th>0.975]</th> \n",
       "</tr>\n",
       "<tr>\n",
       "  <th>const</th>            <td>0.0013</td>   <td>0.0010</td>  <td>1.2840</td>  <td>0.1991</td> <td>-0.0007</td> <td>0.0032</td> \n",
       "</tr>\n",
       "<tr>\n",
       "  <th>ar.L1.D.AAPL_LOG</th> <td>-0.4177</td>  <td>0.1088</td>  <td>-3.8383</td> <td>0.0001</td> <td>-0.6310</td> <td>-0.2044</td>\n",
       "</tr>\n",
       "<tr>\n",
       "  <th>ar.L2.D.AAPL_LOG</th> <td>-0.6955</td>  <td>0.1445</td>  <td>-4.8130</td> <td>0.0000</td> <td>-0.9787</td> <td>-0.4123</td>\n",
       "</tr>\n",
       "<tr>\n",
       "  <th>ma.L1.D.AAPL_LOG</th> <td>0.4673</td>   <td>0.1277</td>  <td>3.6582</td>  <td>0.0003</td> <td>0.2169</td>  <td>0.7177</td> \n",
       "</tr>\n",
       "<tr>\n",
       "  <th>ma.L2.D.AAPL_LOG</th> <td>0.7128</td>   <td>0.1476</td>  <td>4.8303</td>  <td>0.0000</td> <td>0.4236</td>  <td>1.0021</td> \n",
       "</tr>\n",
       "<tr>\n",
       "  <th>ma.L3.D.AAPL_LOG</th> <td>-0.2395</td>  <td>0.1103</td>  <td>-2.1710</td> <td>0.0299</td> <td>-0.4557</td> <td>-0.0233</td>\n",
       "</tr>\n",
       "</table>\n",
       "<table class=\"simpletable\">\n",
       "<tr>\n",
       "    <td></td>    <th>Real</th>   <th>Imaginary</th> <th>Modulus</th> <th>Frequency</th>\n",
       "</tr>\n",
       "<tr>\n",
       "  <th>AR.1</th> <td>-0.3003</td>  <td>-1.1609</td>  <td>1.1991</td>   <td>-0.2903</td> \n",
       "</tr>\n",
       "<tr>\n",
       "  <th>AR.2</th> <td>-0.3003</td>  <td>1.1609</td>   <td>1.1991</td>   <td>0.2903</td>  \n",
       "</tr>\n",
       "<tr>\n",
       "  <th>MA.1</th> <td>-0.4037</td>  <td>-0.9698</td>  <td>1.0505</td>   <td>-0.3128</td> \n",
       "</tr>\n",
       "<tr>\n",
       "  <th>MA.2</th> <td>-0.4037</td>  <td>0.9698</td>   <td>1.0505</td>   <td>0.3128</td>  \n",
       "</tr>\n",
       "<tr>\n",
       "  <th>MA.3</th> <td>3.7835</td>   <td>-0.0000</td>  <td>3.7835</td>   <td>-0.0000</td> \n",
       "</tr>\n",
       "</table>"
      ],
      "text/plain": [
       "<class 'statsmodels.iolib.summary2.Summary'>\n",
       "\"\"\"\n",
       "                          Results: ARIMA\n",
       "===================================================================\n",
       "Model:              ARIMA            BIC:                 -615.7728\n",
       "Dependent Variable: D.AAPL_LOG       Log-Likelihood:      324.18   \n",
       "Date:               2021-10-13 14:50 Scale:               1.0000   \n",
       "No. Observations:   105              Method:              css-mle  \n",
       "Df Model:           6                Sample:              1        \n",
       "Df Residuals:       99                                    6        \n",
       "Converged:          1.0000           S.D. of innovations: 0.011    \n",
       "No. Iterations:     76.0000          HQIC:                -626.823 \n",
       "AIC:                -634.3506                                      \n",
       "-------------------------------------------------------------------\n",
       "                     Coef.  Std.Err.    t    P>|t|   [0.025  0.975]\n",
       "-------------------------------------------------------------------\n",
       "const                0.0013   0.0010  1.2840 0.1991 -0.0007  0.0032\n",
       "ar.L1.D.AAPL_LOG    -0.4177   0.1088 -3.8383 0.0001 -0.6310 -0.2044\n",
       "ar.L2.D.AAPL_LOG    -0.6955   0.1445 -4.8130 0.0000 -0.9787 -0.4123\n",
       "ma.L1.D.AAPL_LOG     0.4673   0.1277  3.6582 0.0003  0.2169  0.7177\n",
       "ma.L2.D.AAPL_LOG     0.7128   0.1476  4.8303 0.0000  0.4236  1.0021\n",
       "ma.L3.D.AAPL_LOG    -0.2395   0.1103 -2.1710 0.0299 -0.4557 -0.0233\n",
       "----------------------------------------------------------------------------\n",
       "                Real           Imaginary          Modulus          Frequency\n",
       "----------------------------------------------------------------------------\n",
       "AR.1          -0.3003            -1.1609           1.1991            -0.2903\n",
       "AR.2          -0.3003             1.1609           1.1991             0.2903\n",
       "MA.1          -0.4037            -0.9698           1.0505            -0.3128\n",
       "MA.2          -0.4037             0.9698           1.0505             0.3128\n",
       "MA.3           3.7835            -0.0000           3.7835            -0.0000\n",
       "===================================================================\n",
       "\n",
       "\"\"\""
      ]
     },
     "execution_count": 100,
     "metadata": {},
     "output_type": "execute_result"
    }
   ],
   "source": [
    "model_arima_fit.summary2()"
   ]
  },
  {
   "cell_type": "code",
   "execution_count": 101,
   "metadata": {},
   "outputs": [
    {
     "data": {
      "text/plain": [
       "(106,)"
      ]
     },
     "execution_count": 101,
     "metadata": {},
     "output_type": "execute_result"
    }
   ],
   "source": [
    "StockPriceAPPL[\"AAPL_LOG\"].shape"
   ]
  },
  {
   "cell_type": "code",
   "execution_count": 102,
   "metadata": {},
   "outputs": [
    {
     "data": {
      "text/plain": [
       "(array([5.10177605, 5.1024722 , 5.10262422, 5.10475061, 5.10643077,\n",
       "        5.10692416, 5.1082236 , 5.11001175, 5.11103516, 5.11203811]),\n",
       " array([0.01096873, 0.01590151, 0.01961009, 0.02136736, 0.02349104,\n",
       "        0.02607089, 0.02784313, 0.02936761, 0.03121767, 0.03289464]),\n",
       " array([[5.08027773, 5.12327436],\n",
       "        [5.07130581, 5.13363859],\n",
       "        [5.06418915, 5.14105929],\n",
       "        [5.06287136, 5.14662986],\n",
       "        [5.06038918, 5.15247236],\n",
       "        [5.05582614, 5.15802217],\n",
       "        [5.05365207, 5.16279513],\n",
       "        [5.05245228, 5.16757121],\n",
       "        [5.04984965, 5.17222067],\n",
       "        [5.0475658 , 5.17651042]]))"
      ]
     },
     "execution_count": 102,
     "metadata": {},
     "output_type": "execute_result"
    }
   ],
   "source": [
    "model_arima_fit.forecast(10)"
   ]
  },
  {
   "cell_type": "code",
   "execution_count": 103,
   "metadata": {},
   "outputs": [
    {
     "data": {
      "text/plain": [
       "array([5.10177605, 5.1024722 , 5.10262422, 5.10475061, 5.10643077,\n",
       "       5.10692416, 5.1082236 , 5.11001175, 5.11103516, 5.11203811,\n",
       "       5.11358147, 5.11491334, 5.1159577 , 5.11726924, 5.11866914,\n",
       "       5.11984631])"
      ]
     },
     "execution_count": 103,
     "metadata": {},
     "output_type": "execute_result"
    }
   ],
   "source": [
    "model_arima_fit.forecast(16)[0]"
   ]
  },
  {
   "cell_type": "markdown",
   "metadata": {},
   "source": [
    "# Now predict the ADP"
   ]
  },
  {
   "cell_type": "code",
   "execution_count": 48,
   "metadata": {},
   "outputs": [],
   "source": [
    "#take the apple price and forecast\n",
    "stockADP=pd.DataFrame(StockPriceData.ADP)"
   ]
  },
  {
   "cell_type": "code",
   "execution_count": 49,
   "metadata": {},
   "outputs": [
    {
     "data": {
      "text/html": [
       "<div>\n",
       "<style scoped>\n",
       "    .dataframe tbody tr th:only-of-type {\n",
       "        vertical-align: middle;\n",
       "    }\n",
       "\n",
       "    .dataframe tbody tr th {\n",
       "        vertical-align: top;\n",
       "    }\n",
       "\n",
       "    .dataframe thead th {\n",
       "        text-align: right;\n",
       "    }\n",
       "</style>\n",
       "<table border=\"1\" class=\"dataframe\">\n",
       "  <thead>\n",
       "    <tr style=\"text-align: right;\">\n",
       "      <th></th>\n",
       "      <th>ADP</th>\n",
       "    </tr>\n",
       "    <tr>\n",
       "      <th>DATE</th>\n",
       "      <th></th>\n",
       "    </tr>\n",
       "  </thead>\n",
       "  <tbody>\n",
       "    <tr>\n",
       "      <th>2017-04-03</th>\n",
       "      <td>101.27</td>\n",
       "    </tr>\n",
       "    <tr>\n",
       "      <th>2017-04-04</th>\n",
       "      <td>101.45</td>\n",
       "    </tr>\n",
       "    <tr>\n",
       "      <th>2017-04-05</th>\n",
       "      <td>101.93</td>\n",
       "    </tr>\n",
       "    <tr>\n",
       "      <th>2017-04-06</th>\n",
       "      <td>101.75</td>\n",
       "    </tr>\n",
       "    <tr>\n",
       "      <th>2017-04-07</th>\n",
       "      <td>102.19</td>\n",
       "    </tr>\n",
       "  </tbody>\n",
       "</table>\n",
       "</div>"
      ],
      "text/plain": [
       "               ADP\n",
       "DATE              \n",
       "2017-04-03  101.27\n",
       "2017-04-04  101.45\n",
       "2017-04-05  101.93\n",
       "2017-04-06  101.75\n",
       "2017-04-07  102.19"
      ]
     },
     "execution_count": 49,
     "metadata": {},
     "output_type": "execute_result"
    }
   ],
   "source": [
    "stockADP.head()\n"
   ]
  },
  {
   "cell_type": "code",
   "execution_count": 50,
   "metadata": {},
   "outputs": [
    {
     "data": {
      "text/html": [
       "<div>\n",
       "<style scoped>\n",
       "    .dataframe tbody tr th:only-of-type {\n",
       "        vertical-align: middle;\n",
       "    }\n",
       "\n",
       "    .dataframe tbody tr th {\n",
       "        vertical-align: top;\n",
       "    }\n",
       "\n",
       "    .dataframe thead th {\n",
       "        text-align: right;\n",
       "    }\n",
       "</style>\n",
       "<table border=\"1\" class=\"dataframe\">\n",
       "  <thead>\n",
       "    <tr style=\"text-align: right;\">\n",
       "      <th></th>\n",
       "      <th>count</th>\n",
       "      <th>mean</th>\n",
       "      <th>std</th>\n",
       "      <th>min</th>\n",
       "      <th>25%</th>\n",
       "      <th>50%</th>\n",
       "      <th>75%</th>\n",
       "      <th>max</th>\n",
       "    </tr>\n",
       "  </thead>\n",
       "  <tbody>\n",
       "    <tr>\n",
       "      <th>ADP</th>\n",
       "      <td>106.0</td>\n",
       "      <td>103.468726</td>\n",
       "      <td>4.424074</td>\n",
       "      <td>96.46</td>\n",
       "      <td>101.31625</td>\n",
       "      <td>102.44</td>\n",
       "      <td>104.5875</td>\n",
       "      <td>118.91</td>\n",
       "    </tr>\n",
       "  </tbody>\n",
       "</table>\n",
       "</div>"
      ],
      "text/plain": [
       "     count        mean       std    min        25%     50%       75%     max\n",
       "ADP  106.0  103.468726  4.424074  96.46  101.31625  102.44  104.5875  118.91"
      ]
     },
     "execution_count": 50,
     "metadata": {},
     "output_type": "execute_result"
    }
   ],
   "source": [
    "stockADP.describe().transpose()"
   ]
  },
  {
   "cell_type": "code",
   "execution_count": 51,
   "metadata": {},
   "outputs": [],
   "source": [
    "#Creating a column 'ADP_LOG' with the log values of 'NASDAQ.ADP' column data\n",
    "stockADP[\"ADP_LOG\"] =stockADP['ADP'].apply(lambda x:np.log(x))"
   ]
  },
  {
   "cell_type": "code",
   "execution_count": 53,
   "metadata": {},
   "outputs": [],
   "source": [
    "StockPriceADP=stockADP.drop('ADP',axis=1)"
   ]
  },
  {
   "cell_type": "code",
   "execution_count": 54,
   "metadata": {},
   "outputs": [
    {
     "data": {
      "text/plain": [
       "DATE\n",
       "2017-04-03    4.617790\n",
       "2017-04-04    4.619566\n",
       "2017-04-05    4.624286\n",
       "2017-04-06    4.622519\n",
       "2017-04-07    4.626834\n",
       "                ...   \n",
       "2017-08-25    4.650048\n",
       "2017-08-28    4.651672\n",
       "2017-08-29    4.655198\n",
       "2017-08-30    4.662778\n",
       "2017-08-31    4.667863\n",
       "Name: ADP_LOG, Length: 106, dtype: float64"
      ]
     },
     "execution_count": 54,
     "metadata": {},
     "output_type": "execute_result"
    }
   ],
   "source": [
    "StockPriceADP[\"ADP_LOG\"]"
   ]
  },
  {
   "cell_type": "code",
   "execution_count": 55,
   "metadata": {},
   "outputs": [
    {
     "data": {
      "text/plain": [
       "DATE\n",
       "2017-04-03    4.617790\n",
       "2017-04-04    4.619566\n",
       "2017-04-05    4.624286\n",
       "2017-04-06    4.622519\n",
       "2017-04-07    4.626834\n",
       "Name: ADP_LOG, dtype: float64"
      ]
     },
     "execution_count": 55,
     "metadata": {},
     "output_type": "execute_result"
    }
   ],
   "source": [
    "StockPriceADP[\"ADP_LOG\"].head()"
   ]
  },
  {
   "cell_type": "code",
   "execution_count": 56,
   "metadata": {},
   "outputs": [
    {
     "data": {
      "text/plain": [
       "[<matplotlib.lines.Line2D at 0x1e2976f5308>]"
      ]
     },
     "execution_count": 56,
     "metadata": {},
     "output_type": "execute_result"
    },
    {
     "data": {
      "image/png": "[encoded data removed]",
      "text/plain": [
       "<Figure size 864x576 with 1 Axes>"
      ]
     },
     "metadata": {
      "needs_background": "light"
     },
     "output_type": "display_data"
    }
   ],
   "source": [
    "#plot stock AAL\n",
    "plt.figure(figsize=(12,8))\n",
    "#plt.style.use('fivethirtyeight')\n",
    "plt.plot(StockPriceADP[\"ADP_LOG\"])"
   ]
  },
  {
   "cell_type": "code",
   "execution_count": 57,
   "metadata": {},
   "outputs": [
    {
     "data": {
      "image/png": "[encoded data removed]",
      "text/plain": [
       "<Figure size 864x576 with 1 Axes>"
      ]
     },
     "metadata": {
      "needs_background": "light"
     },
     "output_type": "display_data"
    }
   ],
   "source": [
    "rolmean = StockPriceADP.rolling(12).mean()\n",
    "rolstd = StockPriceADP.rolling(12).std()\n",
    "plt.figure(figsize=(12,8)) \n",
    "plt.plot( StockPriceADP, color='blue',label='Original')\n",
    "plt.plot(rolmean, color='red', label='Rolling Mean')\n",
    "plt.plot(rolstd, color='black', label = 'Rolling Std')\n",
    "plt.legend(loc='best')\n",
    "plt.title('Rolling Mean & Standard Deviation')\n",
    "plt.show()"
   ]
  },
  {
   "cell_type": "code",
   "execution_count": 58,
   "metadata": {},
   "outputs": [
    {
     "name": "stdout",
     "output_type": "stream",
     "text": [
      "Augmented Dickey-Fuller Test:\n",
      "ADF Test Statistic : -1.9274461474815063\n",
      "p-value : 0.31926175042941074\n",
      "#Lags Used : 0\n",
      "Number of Observations Used : 105\n",
      "weak evidence against null hypothesis, time series has a unit root, indicating it is non-stationary \n"
     ]
    }
   ],
   "source": [
    "adf_check(StockPriceADP[\"ADP_LOG\"])"
   ]
  },
  {
   "cell_type": "code",
   "execution_count": 59,
   "metadata": {},
   "outputs": [
    {
     "data": {
      "text/plain": [
       "DATE\n",
       "2017-04-03         NaN\n",
       "2017-04-04    0.001776\n",
       "2017-04-05    0.004720\n",
       "2017-04-06   -0.001767\n",
       "2017-04-07    0.004315\n",
       "Name: ADP First Diff, dtype: float64"
      ]
     },
     "execution_count": 59,
     "metadata": {},
     "output_type": "execute_result"
    }
   ],
   "source": [
    "stockADP['ADP First Diff'] = StockPriceADP[\"ADP_LOG\"] - StockPriceADP[\"ADP_LOG\"].shift(1)\n",
    "stockADP['ADP First Diff'].head()"
   ]
  },
  {
   "cell_type": "code",
   "execution_count": 60,
   "metadata": {},
   "outputs": [
    {
     "name": "stdout",
     "output_type": "stream",
     "text": [
      "Augmented Dickey-Fuller Test:\n",
      "ADF Test Statistic : -9.357064875158601\n",
      "p-value : 8.006428135800317e-16\n",
      "#Lags Used : 0\n",
      "Number of Observations Used : 104\n",
      "strong evidence against the null hypothesis, reject the null hypothesis. Data has no unit root and is stationary\n"
     ]
    }
   ],
   "source": [
    "adf_check(stockADP['ADP First Diff'].dropna())"
   ]
  },
  {
   "cell_type": "code",
   "execution_count": 61,
   "metadata": {},
   "outputs": [
    {
     "data": {
      "text/plain": [
       "<AxesSubplot:xlabel='DATE'>"
      ]
     },
     "execution_count": 61,
     "metadata": {},
     "output_type": "execute_result"
    },
    {
     "data": {
      "image/png": "[encoded data removed]",
      "text/plain": [
       "<Figure size 432x288 with 1 Axes>"
      ]
     },
     "metadata": {
      "needs_background": "light"
     },
     "output_type": "display_data"
    }
   ],
   "source": [
    "stockADP['ADP First Diff'].plot()"
   ]
  },
  {
   "cell_type": "code",
   "execution_count": 62,
   "metadata": {},
   "outputs": [
    {
     "data": {
      "image/png": "[encoded data removed]",
      "text/plain": [
       "<Figure size 432x288 with 1 Axes>"
      ]
     },
     "metadata": {
      "needs_background": "light"
     },
     "output_type": "display_data"
    }
   ],
   "source": [
    "from statsmodels.graphics.tsaplots import plot_acf,plot_pacf\n",
    "\n",
    "fig_first = plot_acf(stockADP['ADP First Diff'].dropna())"
   ]
  },
  {
   "cell_type": "code",
   "execution_count": 63,
   "metadata": {},
   "outputs": [
    {
     "data": {
      "image/png": "[encoded data removed]",
      "text/plain": [
       "<Figure size 432x288 with 1 Axes>"
      ]
     },
     "metadata": {
      "needs_background": "light"
     },
     "output_type": "display_data"
    }
   ],
   "source": [
    "result = plot_pacf(stockADP['ADP First Diff'].dropna())"
   ]
  },
  {
   "cell_type": "code",
   "execution_count": 104,
   "metadata": {},
   "outputs": [
    {
     "name": "stdout",
     "output_type": "stream",
     "text": [
      "-562.2823171595559\n"
     ]
    }
   ],
   "source": [
    "model_arima = ARIMA(StockPriceADP[\"ADP_LOG\"],order=(2,1,3))\n",
    "model_arima_fit = model_arima.fit()\n",
    "print(model_arima_fit.aic)"
   ]
  },
  {
   "cell_type": "code",
   "execution_count": 105,
   "metadata": {},
   "outputs": [
    {
     "data": {
      "text/html": [
       "<table class=\"simpletable\">\n",
       "<tr>\n",
       "        <td>Model:</td>              <td>ARIMA</td>              <td>BIC:</td>         <td>-543.7046</td>\n",
       "</tr>\n",
       "<tr>\n",
       "  <td>Dependent Variable:</td>     <td>D.ADP_LOG</td>       <td>Log-Likelihood:</td>    <td>288.14</td>  \n",
       "</tr>\n",
       "<tr>\n",
       "         <td>Date:</td>        <td>2021-10-13 14:50</td>        <td>Scale:</td>         <td>1.0000</td>  \n",
       "</tr>\n",
       "<tr>\n",
       "   <td>No. Observations:</td>         <td>105</td>              <td>Method:</td>        <td>css-mle</td> \n",
       "</tr>\n",
       "<tr>\n",
       "       <td>Df Model:</td>              <td>6</td>               <td>Sample:</td>           <td>1</td>    \n",
       "</tr>\n",
       "<tr>\n",
       "     <td>Df Residuals:</td>           <td>99</td>                  <td></td>               <td>6</td>    \n",
       "</tr>\n",
       "<tr>\n",
       "      <td>Converged:</td>           <td>1.0000</td>      <td>S.D. of innovations:</td>   <td>0.015</td>  \n",
       "</tr>\n",
       "<tr>\n",
       "    <td>No. Iterations:</td>        <td>43.0000</td>             <td>HQIC:</td>        <td>-554.754</td> \n",
       "</tr>\n",
       "<tr>\n",
       "         <td>AIC:</td>             <td>-562.2823</td>              <td></td>               <td></td>     \n",
       "</tr>\n",
       "</table>\n",
       "<table class=\"simpletable\">\n",
       "<tr>\n",
       "         <td></td>          <th>Coef.</th>  <th>Std.Err.</th>     <th>t</th>     <th>P>|t|</th> <th>[0.025</th>  <th>0.975]</th> \n",
       "</tr>\n",
       "<tr>\n",
       "  <th>const</th>           <td>0.0005</td>   <td>0.0017</td>   <td>0.3056</td>  <td>0.7599</td> <td>-0.0028</td> <td>0.0038</td> \n",
       "</tr>\n",
       "<tr>\n",
       "  <th>ar.L1.D.ADP_LOG</th> <td>0.1688</td>   <td>0.0814</td>   <td>2.0732</td>  <td>0.0382</td> <td>0.0092</td>  <td>0.3284</td> \n",
       "</tr>\n",
       "<tr>\n",
       "  <th>ar.L2.D.ADP_LOG</th> <td>-0.9216</td>  <td>0.0519</td>  <td>-17.7551</td> <td>0.0000</td> <td>-1.0233</td> <td>-0.8198</td>\n",
       "</tr>\n",
       "<tr>\n",
       "  <th>ma.L1.D.ADP_LOG</th> <td>-0.1015</td>  <td>0.1242</td>   <td>-0.8169</td> <td>0.4140</td> <td>-0.3449</td> <td>0.1420</td> \n",
       "</tr>\n",
       "<tr>\n",
       "  <th>ma.L2.D.ADP_LOG</th> <td>0.9896</td>   <td>0.0434</td>   <td>22.8203</td> <td>0.0000</td> <td>0.9046</td>  <td>1.0746</td> \n",
       "</tr>\n",
       "<tr>\n",
       "  <th>ma.L3.D.ADP_LOG</th> <td>0.0632</td>   <td>0.1078</td>   <td>0.5861</td>  <td>0.5578</td> <td>-0.1482</td> <td>0.2746</td> \n",
       "</tr>\n",
       "</table>\n",
       "<table class=\"simpletable\">\n",
       "<tr>\n",
       "    <td></td>     <th>Real</th>   <th>Imaginary</th> <th>Modulus</th> <th>Frequency</th>\n",
       "</tr>\n",
       "<tr>\n",
       "  <th>AR.1</th>  <td>0.0916</td>   <td>-1.0377</td>  <td>1.0417</td>   <td>-0.2360</td> \n",
       "</tr>\n",
       "<tr>\n",
       "  <th>AR.2</th>  <td>0.0916</td>   <td>1.0377</td>   <td>1.0417</td>   <td>0.2360</td>  \n",
       "</tr>\n",
       "<tr>\n",
       "  <th>MA.1</th>  <td>0.0823</td>   <td>-0.9966</td>  <td>1.0000</td>   <td>-0.2369</td> \n",
       "</tr>\n",
       "<tr>\n",
       "  <th>MA.2</th>  <td>0.0823</td>   <td>0.9966</td>   <td>1.0000</td>   <td>0.2369</td>  \n",
       "</tr>\n",
       "<tr>\n",
       "  <th>MA.3</th> <td>-15.8208</td>  <td>-0.0000</td>  <td>15.8208</td>  <td>-0.5000</td> \n",
       "</tr>\n",
       "</table>"
      ],
      "text/plain": [
       "<class 'statsmodels.iolib.summary2.Summary'>\n",
       "\"\"\"\n",
       "                          Results: ARIMA\n",
       "===================================================================\n",
       "Model:              ARIMA            BIC:                 -543.7046\n",
       "Dependent Variable: D.ADP_LOG        Log-Likelihood:      288.14   \n",
       "Date:               2021-10-13 14:50 Scale:               1.0000   \n",
       "No. Observations:   105              Method:              css-mle  \n",
       "Df Model:           6                Sample:              1        \n",
       "Df Residuals:       99                                    6        \n",
       "Converged:          1.0000           S.D. of innovations: 0.015    \n",
       "No. Iterations:     43.0000          HQIC:                -554.754 \n",
       "AIC:                -562.2823                                      \n",
       "-------------------------------------------------------------------\n",
       "                    Coef.  Std.Err.    t     P>|t|   [0.025  0.975]\n",
       "-------------------------------------------------------------------\n",
       "const               0.0005   0.0017   0.3056 0.7599 -0.0028  0.0038\n",
       "ar.L1.D.ADP_LOG     0.1688   0.0814   2.0732 0.0382  0.0092  0.3284\n",
       "ar.L2.D.ADP_LOG    -0.9216   0.0519 -17.7551 0.0000 -1.0233 -0.8198\n",
       "ma.L1.D.ADP_LOG    -0.1015   0.1242  -0.8169 0.4140 -0.3449  0.1420\n",
       "ma.L2.D.ADP_LOG     0.9896   0.0434  22.8203 0.0000  0.9046  1.0746\n",
       "ma.L3.D.ADP_LOG     0.0632   0.1078   0.5861 0.5578 -0.1482  0.2746\n",
       "---------------------------------------------------------------------------\n",
       "                 Real           Imaginary         Modulus         Frequency\n",
       "---------------------------------------------------------------------------\n",
       "AR.1             0.0916           -1.0377          1.0417           -0.2360\n",
       "AR.2             0.0916            1.0377          1.0417            0.2360\n",
       "MA.1             0.0823           -0.9966          1.0000           -0.2369\n",
       "MA.2             0.0823            0.9966          1.0000            0.2369\n",
       "MA.3           -15.8208           -0.0000         15.8208           -0.5000\n",
       "===================================================================\n",
       "\n",
       "\"\"\""
      ]
     },
     "execution_count": 105,
     "metadata": {},
     "output_type": "execute_result"
    }
   ],
   "source": [
    "model_arima_fit.summary2()\n"
   ]
  },
  {
   "cell_type": "code",
   "execution_count": 106,
   "metadata": {},
   "outputs": [
    {
     "data": {
      "text/plain": [
       "array([4.66785014, 4.67079795, 4.67260909, 4.67109298, 4.67006264,\n",
       "       4.67218061, 4.67438242, 4.67369701, 4.6724469 , 4.67376221,\n",
       "       4.67603105, 4.67609665, 4.67491156, 4.67554575, 4.67763967,\n",
       "       4.67830345])"
      ]
     },
     "execution_count": 106,
     "metadata": {},
     "output_type": "execute_result"
    }
   ],
   "source": [
    "model_arima_fit.forecast(16)[0]"
   ]
  },
  {
   "cell_type": "markdown",
   "metadata": {},
   "source": [
    "# Predicting CBOE"
   ]
  },
  {
   "cell_type": "code",
   "execution_count": 67,
   "metadata": {},
   "outputs": [],
   "source": [
    "#take the CBOE price and forecast\n",
    "stockCBOE=pd.DataFrame(StockPriceData.CBOE)"
   ]
  },
  {
   "cell_type": "code",
   "execution_count": 68,
   "metadata": {},
   "outputs": [
    {
     "data": {
      "text/html": [
       "<div>\n",
       "<style scoped>\n",
       "    .dataframe tbody tr th:only-of-type {\n",
       "        vertical-align: middle;\n",
       "    }\n",
       "\n",
       "    .dataframe tbody tr th {\n",
       "        vertical-align: top;\n",
       "    }\n",
       "\n",
       "    .dataframe thead th {\n",
       "        text-align: right;\n",
       "    }\n",
       "</style>\n",
       "<table border=\"1\" class=\"dataframe\">\n",
       "  <thead>\n",
       "    <tr style=\"text-align: right;\">\n",
       "      <th></th>\n",
       "      <th>CBOE</th>\n",
       "    </tr>\n",
       "    <tr>\n",
       "      <th>DATE</th>\n",
       "      <th></th>\n",
       "    </tr>\n",
       "  </thead>\n",
       "  <tbody>\n",
       "    <tr>\n",
       "      <th>2017-04-03</th>\n",
       "      <td>80.67</td>\n",
       "    </tr>\n",
       "    <tr>\n",
       "      <th>2017-04-04</th>\n",
       "      <td>80.89</td>\n",
       "    </tr>\n",
       "    <tr>\n",
       "      <th>2017-04-05</th>\n",
       "      <td>80.42</td>\n",
       "    </tr>\n",
       "    <tr>\n",
       "      <th>2017-04-06</th>\n",
       "      <td>80.32</td>\n",
       "    </tr>\n",
       "    <tr>\n",
       "      <th>2017-04-07</th>\n",
       "      <td>81.08</td>\n",
       "    </tr>\n",
       "  </tbody>\n",
       "</table>\n",
       "</div>"
      ],
      "text/plain": [
       "             CBOE\n",
       "DATE             \n",
       "2017-04-03  80.67\n",
       "2017-04-04  80.89\n",
       "2017-04-05  80.42\n",
       "2017-04-06  80.32\n",
       "2017-04-07  81.08"
      ]
     },
     "execution_count": 68,
     "metadata": {},
     "output_type": "execute_result"
    }
   ],
   "source": [
    "stockCBOE.head()"
   ]
  },
  {
   "cell_type": "code",
   "execution_count": 69,
   "metadata": {},
   "outputs": [
    {
     "data": {
      "text/html": [
       "<div>\n",
       "<style scoped>\n",
       "    .dataframe tbody tr th:only-of-type {\n",
       "        vertical-align: middle;\n",
       "    }\n",
       "\n",
       "    .dataframe tbody tr th {\n",
       "        vertical-align: top;\n",
       "    }\n",
       "\n",
       "    .dataframe thead th {\n",
       "        text-align: right;\n",
       "    }\n",
       "</style>\n",
       "<table border=\"1\" class=\"dataframe\">\n",
       "  <thead>\n",
       "    <tr style=\"text-align: right;\">\n",
       "      <th></th>\n",
       "      <th>count</th>\n",
       "      <th>mean</th>\n",
       "      <th>std</th>\n",
       "      <th>min</th>\n",
       "      <th>25%</th>\n",
       "      <th>50%</th>\n",
       "      <th>75%</th>\n",
       "      <th>max</th>\n",
       "    </tr>\n",
       "  </thead>\n",
       "  <tbody>\n",
       "    <tr>\n",
       "      <th>CBOE</th>\n",
       "      <td>106.0</td>\n",
       "      <td>89.398774</td>\n",
       "      <td>5.757677</td>\n",
       "      <td>80.32</td>\n",
       "      <td>84.1525</td>\n",
       "      <td>89.58</td>\n",
       "      <td>93.4975</td>\n",
       "      <td>100.89</td>\n",
       "    </tr>\n",
       "  </tbody>\n",
       "</table>\n",
       "</div>"
      ],
      "text/plain": [
       "      count       mean       std    min      25%    50%      75%     max\n",
       "CBOE  106.0  89.398774  5.757677  80.32  84.1525  89.58  93.4975  100.89"
      ]
     },
     "execution_count": 69,
     "metadata": {},
     "output_type": "execute_result"
    }
   ],
   "source": [
    "stockCBOE.describe().transpose()"
   ]
  },
  {
   "cell_type": "code",
   "execution_count": 70,
   "metadata": {},
   "outputs": [],
   "source": [
    "#Creating a column 'CBOE_LOG' with the log values of 'NASDAQ.CBOE' column data\n",
    "stockCBOE[\"CBOE_LOG\"] =stockCBOE['CBOE'].apply(lambda x:np.log(x))"
   ]
  },
  {
   "cell_type": "code",
   "execution_count": 71,
   "metadata": {},
   "outputs": [],
   "source": [
    "StockPriceCBOE=stockCBOE.drop('CBOE',axis=1)"
   ]
  },
  {
   "cell_type": "code",
   "execution_count": 72,
   "metadata": {},
   "outputs": [
    {
     "data": {
      "text/plain": [
       "DATE\n",
       "2017-04-03    4.390367\n",
       "2017-04-04    4.393090\n",
       "2017-04-05    4.387263\n",
       "2017-04-06    4.386019\n",
       "2017-04-07    4.395436\n",
       "                ...   \n",
       "2017-08-25    4.602868\n",
       "2017-08-28    4.606669\n",
       "2017-08-29    4.608564\n",
       "2017-08-30    4.607867\n",
       "2017-08-31    4.614031\n",
       "Name: CBOE_LOG, Length: 106, dtype: float64"
      ]
     },
     "execution_count": 72,
     "metadata": {},
     "output_type": "execute_result"
    }
   ],
   "source": [
    "StockPriceCBOE[\"CBOE_LOG\"]"
   ]
  },
  {
   "cell_type": "code",
   "execution_count": 73,
   "metadata": {},
   "outputs": [
    {
     "data": {
      "text/plain": [
       "[<matplotlib.lines.Line2D at 0x1e296a59dc8>]"
      ]
     },
     "execution_count": 73,
     "metadata": {},
     "output_type": "execute_result"
    },
    {
     "data": {
      "image/png": "[encoded data removed]",
      "text/plain": [
       "<Figure size 864x576 with 1 Axes>"
      ]
     },
     "metadata": {
      "needs_background": "light"
     },
     "output_type": "display_data"
    }
   ],
   "source": [
    "#plot stock AAL\n",
    "plt.figure(figsize=(12,8))\n",
    "#plt.style.use('fivethirtyeight')\n",
    "plt.plot(StockPriceCBOE[\"CBOE_LOG\"])"
   ]
  },
  {
   "cell_type": "code",
   "execution_count": 74,
   "metadata": {},
   "outputs": [
    {
     "data": {
      "image/png": "[encoded data removed]",
      "text/plain": [
       "<Figure size 864x576 with 1 Axes>"
      ]
     },
     "metadata": {
      "needs_background": "light"
     },
     "output_type": "display_data"
    }
   ],
   "source": [
    "rolmean = StockPriceCBOE.rolling(12).mean()\n",
    "rolstd = StockPriceCBOE.rolling(12).std()\n",
    "plt.figure(figsize=(12,8)) \n",
    "plt.plot( StockPriceCBOE, color='blue',label='Original')\n",
    "plt.plot(rolmean, color='red', label='Rolling Mean')\n",
    "plt.plot(rolstd, color='black', label = 'Rolling Std')\n",
    "plt.legend(loc='best')\n",
    "plt.title('Rolling Mean & Standard Deviation')\n",
    "plt.show()"
   ]
  },
  {
   "cell_type": "code",
   "execution_count": 75,
   "metadata": {},
   "outputs": [
    {
     "name": "stdout",
     "output_type": "stream",
     "text": [
      "Augmented Dickey-Fuller Test:\n",
      "ADF Test Statistic : 0.1511952083547288\n",
      "p-value : 0.969387539657401\n",
      "#Lags Used : 1\n",
      "Number of Observations Used : 104\n",
      "weak evidence against null hypothesis, time series has a unit root, indicating it is non-stationary \n"
     ]
    }
   ],
   "source": [
    "adf_check(StockPriceCBOE[\"CBOE_LOG\"])"
   ]
  },
  {
   "cell_type": "code",
   "execution_count": 76,
   "metadata": {},
   "outputs": [
    {
     "data": {
      "text/plain": [
       "DATE\n",
       "2017-04-03         NaN\n",
       "2017-04-04    0.002723\n",
       "2017-04-05   -0.005827\n",
       "2017-04-06   -0.001244\n",
       "2017-04-07    0.009418\n",
       "Name: CBOE First Diff, dtype: float64"
      ]
     },
     "execution_count": 76,
     "metadata": {},
     "output_type": "execute_result"
    }
   ],
   "source": [
    "stockCBOE['CBOE First Diff'] = StockPriceCBOE[\"CBOE_LOG\"] - StockPriceCBOE[\"CBOE_LOG\"].shift(1)\n",
    "stockCBOE['CBOE First Diff'].head()"
   ]
  },
  {
   "cell_type": "code",
   "execution_count": 77,
   "metadata": {},
   "outputs": [
    {
     "name": "stdout",
     "output_type": "stream",
     "text": [
      "Augmented Dickey-Fuller Test:\n",
      "ADF Test Statistic : -13.24572391243465\n",
      "p-value : 8.982796302540516e-25\n",
      "#Lags Used : 0\n",
      "Number of Observations Used : 104\n",
      "strong evidence against the null hypothesis, reject the null hypothesis. Data has no unit root and is stationary\n"
     ]
    }
   ],
   "source": [
    "adf_check(stockCBOE['CBOE First Diff'].dropna())"
   ]
  },
  {
   "cell_type": "code",
   "execution_count": 78,
   "metadata": {},
   "outputs": [
    {
     "data": {
      "text/plain": [
       "<AxesSubplot:xlabel='DATE'>"
      ]
     },
     "execution_count": 78,
     "metadata": {},
     "output_type": "execute_result"
    },
    {
     "data": {
      "image/png": "[encoded data removed]",
      "text/plain": [
       "<Figure size 432x288 with 1 Axes>"
      ]
     },
     "metadata": {
      "needs_background": "light"
     },
     "output_type": "display_data"
    }
   ],
   "source": [
    "stockCBOE['CBOE First Diff'].plot()"
   ]
  },
  {
   "cell_type": "code",
   "execution_count": 79,
   "metadata": {},
   "outputs": [
    {
     "data": {
      "image/png": "[encoded data removed]",
      "text/plain": [
       "<Figure size 432x288 with 1 Axes>"
      ]
     },
     "metadata": {
      "needs_background": "light"
     },
     "output_type": "display_data"
    }
   ],
   "source": [
    "from statsmodels.graphics.tsaplots import plot_acf,plot_pacf\n",
    "\n",
    "fig_first = plot_acf(stockCBOE['CBOE First Diff'].dropna())"
   ]
  },
  {
   "cell_type": "code",
   "execution_count": 80,
   "metadata": {},
   "outputs": [
    {
     "data": {
      "image/png": "[encoded data removed]",
      "text/plain": [
       "<Figure size 432x288 with 1 Axes>"
      ]
     },
     "metadata": {
      "needs_background": "light"
     },
     "output_type": "display_data"
    }
   ],
   "source": [
    "result = plot_pacf(stockCBOE['CBOE First Diff'].dropna())"
   ]
  },
  {
   "cell_type": "code",
   "execution_count": 115,
   "metadata": {},
   "outputs": [
    {
     "name": "stdout",
     "output_type": "stream",
     "text": [
      "-724.2724069853471\n"
     ]
    }
   ],
   "source": [
    "model_arima = ARIMA(StockPriceCBOE[\"CBOE_LOG\"])\n",
    "model_arima_fit = model_arima.fit()\n",
    "print(model_arima_fit.aic)"
   ]
  },
  {
   "cell_type": "code",
   "execution_count": 109,
   "metadata": {},
   "outputs": [
    {
     "data": {
      "text/html": [
       "<table class=\"simpletable\">\n",
       "<tr>\n",
       "        <td>Model:</td>              <td>ARIMA</td>              <td>BIC:</td>         <td>-700.3868</td>\n",
       "</tr>\n",
       "<tr>\n",
       "  <td>Dependent Variable:</td>    <td>D.CBOE_LOG</td>       <td>Log-Likelihood:</td>    <td>371.14</td>  \n",
       "</tr>\n",
       "<tr>\n",
       "         <td>Date:</td>        <td>2021-10-13 14:51</td>        <td>Scale:</td>         <td>1.0000</td>  \n",
       "</tr>\n",
       "<tr>\n",
       "   <td>No. Observations:</td>         <td>105</td>              <td>Method:</td>        <td>css-mle</td> \n",
       "</tr>\n",
       "<tr>\n",
       "       <td>Df Model:</td>              <td>8</td>               <td>Sample:</td>           <td>1</td>    \n",
       "</tr>\n",
       "<tr>\n",
       "     <td>Df Residuals:</td>           <td>97</td>                  <td></td>               <td>6</td>    \n",
       "</tr>\n",
       "<tr>\n",
       "      <td>Converged:</td>           <td>1.0000</td>      <td>S.D. of innovations:</td>   <td>0.007</td>  \n",
       "</tr>\n",
       "<tr>\n",
       "    <td>No. Iterations:</td>        <td>56.0000</td>             <td>HQIC:</td>        <td>-714.593</td> \n",
       "</tr>\n",
       "<tr>\n",
       "         <td>AIC:</td>             <td>-724.2724</td>              <td></td>               <td></td>     \n",
       "</tr>\n",
       "</table>\n",
       "<table class=\"simpletable\">\n",
       "<tr>\n",
       "          <td></td>          <th>Coef.</th>  <th>Std.Err.</th>    <th>t</th>     <th>P>|t|</th> <th>[0.025</th>  <th>0.975]</th> \n",
       "</tr>\n",
       "<tr>\n",
       "  <th>const</th>            <td>0.0021</td>   <td>0.0000</td>  <td>42.4341</td> <td>0.0000</td> <td>0.0020</td>  <td>0.0022</td> \n",
       "</tr>\n",
       "<tr>\n",
       "  <th>ar.L1.D.CBOE_LOG</th> <td>0.8597</td>   <td>0.4917</td>  <td>1.7485</td>  <td>0.0804</td> <td>-0.1040</td> <td>1.8234</td> \n",
       "</tr>\n",
       "<tr>\n",
       "  <th>ar.L2.D.CBOE_LOG</th> <td>-0.0533</td>  <td>0.3041</td>  <td>-0.1751</td> <td>0.8610</td> <td>-0.6493</td> <td>0.5428</td> \n",
       "</tr>\n",
       "<tr>\n",
       "  <th>ar.L3.D.CBOE_LOG</th> <td>-0.0396</td>  <td>0.1408</td>  <td>-0.2812</td> <td>0.7785</td> <td>-0.3156</td> <td>0.2364</td> \n",
       "</tr>\n",
       "<tr>\n",
       "  <th>ar.L4.D.CBOE_LOG</th> <td>0.0847</td>   <td>0.1265</td>  <td>0.6700</td>  <td>0.5029</td> <td>-0.1631</td> <td>0.3326</td> \n",
       "</tr>\n",
       "<tr>\n",
       "  <th>ar.L5.D.CBOE_LOG</th> <td>-0.1693</td>  <td>0.1034</td>  <td>-1.6371</td> <td>0.1016</td> <td>-0.3720</td> <td>0.0334</td> \n",
       "</tr>\n",
       "<tr>\n",
       "  <th>ma.L1.D.CBOE_LOG</th> <td>-1.3016</td>  <td>0.5022</td>  <td>-2.5919</td> <td>0.0095</td> <td>-2.2858</td> <td>-0.3173</td>\n",
       "</tr>\n",
       "<tr>\n",
       "  <th>ma.L2.D.CBOE_LOG</th> <td>0.3016</td>   <td>0.5013</td>  <td>0.6016</td>  <td>0.5474</td> <td>-0.6809</td> <td>1.2841</td> \n",
       "</tr>\n",
       "</table>\n",
       "<table class=\"simpletable\">\n",
       "<tr>\n",
       "    <td></td>    <th>Real</th>   <th>Imaginary</th> <th>Modulus</th> <th>Frequency</th>\n",
       "</tr>\n",
       "<tr>\n",
       "  <th>AR.1</th> <td>1.1343</td>   <td>-0.4217</td>  <td>1.2102</td>   <td>-0.0566</td> \n",
       "</tr>\n",
       "<tr>\n",
       "  <th>AR.2</th> <td>1.1343</td>   <td>0.4217</td>   <td>1.2102</td>   <td>0.0566</td>  \n",
       "</tr>\n",
       "<tr>\n",
       "  <th>AR.3</th> <td>-0.0825</td>  <td>-1.5841</td>  <td>1.5862</td>   <td>-0.2583</td> \n",
       "</tr>\n",
       "<tr>\n",
       "  <th>AR.4</th> <td>-0.0825</td>  <td>1.5841</td>   <td>1.5862</td>   <td>0.2583</td>  \n",
       "</tr>\n",
       "<tr>\n",
       "  <th>AR.5</th> <td>-1.6031</td>  <td>-0.0000</td>  <td>1.6031</td>   <td>-0.5000</td> \n",
       "</tr>\n",
       "<tr>\n",
       "  <th>MA.1</th> <td>1.0000</td>   <td>0.0000</td>   <td>1.0000</td>   <td>0.0000</td>  \n",
       "</tr>\n",
       "<tr>\n",
       "  <th>MA.2</th> <td>3.3159</td>   <td>0.0000</td>   <td>3.3159</td>   <td>0.0000</td>  \n",
       "</tr>\n",
       "</table>"
      ],
      "text/plain": [
       "<class 'statsmodels.iolib.summary2.Summary'>\n",
       "\"\"\"\n",
       "                          Results: ARIMA\n",
       "===================================================================\n",
       "Model:              ARIMA            BIC:                 -700.3868\n",
       "Dependent Variable: D.CBOE_LOG       Log-Likelihood:      371.14   \n",
       "Date:               2021-10-13 14:51 Scale:               1.0000   \n",
       "No. Observations:   105              Method:              css-mle  \n",
       "Df Model:           8                Sample:              1        \n",
       "Df Residuals:       97                                    6        \n",
       "Converged:          1.0000           S.D. of innovations: 0.007    \n",
       "No. Iterations:     56.0000          HQIC:                -714.593 \n",
       "AIC:                -724.2724                                      \n",
       "-------------------------------------------------------------------\n",
       "                     Coef.  Std.Err.    t    P>|t|   [0.025  0.975]\n",
       "-------------------------------------------------------------------\n",
       "const                0.0021   0.0000 42.4341 0.0000  0.0020  0.0022\n",
       "ar.L1.D.CBOE_LOG     0.8597   0.4917  1.7485 0.0804 -0.1040  1.8234\n",
       "ar.L2.D.CBOE_LOG    -0.0533   0.3041 -0.1751 0.8610 -0.6493  0.5428\n",
       "ar.L3.D.CBOE_LOG    -0.0396   0.1408 -0.2812 0.7785 -0.3156  0.2364\n",
       "ar.L4.D.CBOE_LOG     0.0847   0.1265  0.6700 0.5029 -0.1631  0.3326\n",
       "ar.L5.D.CBOE_LOG    -0.1693   0.1034 -1.6371 0.1016 -0.3720  0.0334\n",
       "ma.L1.D.CBOE_LOG    -1.3016   0.5022 -2.5919 0.0095 -2.2858 -0.3173\n",
       "ma.L2.D.CBOE_LOG     0.3016   0.5013  0.6016 0.5474 -0.6809  1.2841\n",
       "----------------------------------------------------------------------------\n",
       "                Real           Imaginary          Modulus          Frequency\n",
       "----------------------------------------------------------------------------\n",
       "AR.1           1.1343            -0.4217           1.2102            -0.0566\n",
       "AR.2           1.1343             0.4217           1.2102             0.0566\n",
       "AR.3          -0.0825            -1.5841           1.5862            -0.2583\n",
       "AR.4          -0.0825             1.5841           1.5862             0.2583\n",
       "AR.5          -1.6031            -0.0000           1.6031            -0.5000\n",
       "MA.1           1.0000             0.0000           1.0000             0.0000\n",
       "MA.2           3.3159             0.0000           3.3159             0.0000\n",
       "===================================================================\n",
       "\n",
       "\"\"\""
      ]
     },
     "execution_count": 109,
     "metadata": {},
     "output_type": "execute_result"
    }
   ],
   "source": [
    "model_arima_fit.summary2()"
   ]
  },
  {
   "cell_type": "code",
   "execution_count": 110,
   "metadata": {},
   "outputs": [
    {
     "data": {
      "text/plain": [
       "array([4.61020654, 4.60875614, 4.60774555, 4.60840265, 4.60836799,\n",
       "       4.60952446, 4.61131118, 4.61367053, 4.6161005 , 4.61875379,\n",
       "       4.62142438, 4.624037  , 4.62649904, 4.62884101, 4.63105374,\n",
       "       4.63315986])"
      ]
     },
     "execution_count": 110,
     "metadata": {},
     "output_type": "execute_result"
    }
   ],
   "source": [
    "model_arima_fit.forecast(16)[0]"
   ]
  },
  {
   "cell_type": "markdown",
   "metadata": {},
   "source": [
    "# Predicting CSCO"
   ]
  },
  {
   "cell_type": "code",
   "execution_count": 84,
   "metadata": {},
   "outputs": [],
   "source": [
    "#take the CSCO price and forecast\n",
    "stockCSCO=pd.DataFrame(StockPriceData.CSCO)"
   ]
  },
  {
   "cell_type": "code",
   "execution_count": 85,
   "metadata": {},
   "outputs": [
    {
     "data": {
      "text/html": [
       "<div>\n",
       "<style scoped>\n",
       "    .dataframe tbody tr th:only-of-type {\n",
       "        vertical-align: middle;\n",
       "    }\n",
       "\n",
       "    .dataframe tbody tr th {\n",
       "        vertical-align: top;\n",
       "    }\n",
       "\n",
       "    .dataframe thead th {\n",
       "        text-align: right;\n",
       "    }\n",
       "</style>\n",
       "<table border=\"1\" class=\"dataframe\">\n",
       "  <thead>\n",
       "    <tr style=\"text-align: right;\">\n",
       "      <th></th>\n",
       "      <th>CSCO</th>\n",
       "    </tr>\n",
       "    <tr>\n",
       "      <th>DATE</th>\n",
       "      <th></th>\n",
       "    </tr>\n",
       "  </thead>\n",
       "  <tbody>\n",
       "    <tr>\n",
       "      <th>2017-04-03</th>\n",
       "      <td>33.580</td>\n",
       "    </tr>\n",
       "    <tr>\n",
       "      <th>2017-04-04</th>\n",
       "      <td>33.410</td>\n",
       "    </tr>\n",
       "    <tr>\n",
       "      <th>2017-04-05</th>\n",
       "      <td>33.000</td>\n",
       "    </tr>\n",
       "    <tr>\n",
       "      <th>2017-04-06</th>\n",
       "      <td>33.075</td>\n",
       "    </tr>\n",
       "    <tr>\n",
       "      <th>2017-04-07</th>\n",
       "      <td>32.960</td>\n",
       "    </tr>\n",
       "  </tbody>\n",
       "</table>\n",
       "</div>"
      ],
      "text/plain": [
       "              CSCO\n",
       "DATE              \n",
       "2017-04-03  33.580\n",
       "2017-04-04  33.410\n",
       "2017-04-05  33.000\n",
       "2017-04-06  33.075\n",
       "2017-04-07  32.960"
      ]
     },
     "execution_count": 85,
     "metadata": {},
     "output_type": "execute_result"
    }
   ],
   "source": [
    "stockCSCO.head()"
   ]
  },
  {
   "cell_type": "code",
   "execution_count": 86,
   "metadata": {},
   "outputs": [
    {
     "data": {
      "text/html": [
       "<div>\n",
       "<style scoped>\n",
       "    .dataframe tbody tr th:only-of-type {\n",
       "        vertical-align: middle;\n",
       "    }\n",
       "\n",
       "    .dataframe tbody tr th {\n",
       "        vertical-align: top;\n",
       "    }\n",
       "\n",
       "    .dataframe thead th {\n",
       "        text-align: right;\n",
       "    }\n",
       "</style>\n",
       "<table border=\"1\" class=\"dataframe\">\n",
       "  <thead>\n",
       "    <tr style=\"text-align: right;\">\n",
       "      <th></th>\n",
       "      <th>count</th>\n",
       "      <th>mean</th>\n",
       "      <th>std</th>\n",
       "      <th>min</th>\n",
       "      <th>25%</th>\n",
       "      <th>50%</th>\n",
       "      <th>75%</th>\n",
       "      <th>max</th>\n",
       "    </tr>\n",
       "  </thead>\n",
       "  <tbody>\n",
       "    <tr>\n",
       "      <th>CSCO</th>\n",
       "      <td>106.0</td>\n",
       "      <td>32.129151</td>\n",
       "      <td>0.993225</td>\n",
       "      <td>30.37</td>\n",
       "      <td>31.4825</td>\n",
       "      <td>31.78</td>\n",
       "      <td>32.7825</td>\n",
       "      <td>34.39</td>\n",
       "    </tr>\n",
       "  </tbody>\n",
       "</table>\n",
       "</div>"
      ],
      "text/plain": [
       "      count       mean       std    min      25%    50%      75%    max\n",
       "CSCO  106.0  32.129151  0.993225  30.37  31.4825  31.78  32.7825  34.39"
      ]
     },
     "execution_count": 86,
     "metadata": {},
     "output_type": "execute_result"
    }
   ],
   "source": [
    "stockCSCO.describe().transpose()"
   ]
  },
  {
   "cell_type": "code",
   "execution_count": 87,
   "metadata": {},
   "outputs": [
    {
     "data": {
      "text/plain": [
       "DATE\n",
       "2017-04-03    3.513931\n",
       "2017-04-04    3.508855\n",
       "2017-04-05    3.496508\n",
       "2017-04-06    3.498778\n",
       "2017-04-07    3.495295\n",
       "                ...   \n",
       "2017-08-25    3.448081\n",
       "2017-08-28    3.451257\n",
       "2017-08-29    3.449352\n",
       "2017-08-30    3.465423\n",
       "2017-08-31    3.472743\n",
       "Name: CSCO_LOG, Length: 106, dtype: float64"
      ]
     },
     "execution_count": 87,
     "metadata": {},
     "output_type": "execute_result"
    }
   ],
   "source": [
    "#Creating a column 'CSCO_LOG' with the log values of 'NASDAQ.CSCO' column data\n",
    "stockCSCO[\"CSCO_LOG\"] =stockCSCO['CSCO'].apply(lambda x:np.log(x))\n",
    "StockPriceCSCO=stockCSCO.drop('CSCO',axis=1)\n",
    "StockPriceCSCO[\"CSCO_LOG\"]"
   ]
  },
  {
   "cell_type": "code",
   "execution_count": 88,
   "metadata": {},
   "outputs": [
    {
     "data": {
      "text/plain": [
       "[<matplotlib.lines.Line2D at 0x1e297cc6248>]"
      ]
     },
     "execution_count": 88,
     "metadata": {},
     "output_type": "execute_result"
    },
    {
     "data": {
      "image/png": "[encoded data removed]",
      "text/plain": [
       "<Figure size 864x576 with 1 Axes>"
      ]
     },
     "metadata": {
      "needs_background": "light"
     },
     "output_type": "display_data"
    }
   ],
   "source": [
    "plt.figure(figsize=(12,8))\n",
    "#plt.style.use('fivethirtyeight')\n",
    "plt.plot(StockPriceCSCO[\"CSCO_LOG\"])"
   ]
  },
  {
   "cell_type": "code",
   "execution_count": 89,
   "metadata": {},
   "outputs": [
    {
     "data": {
      "image/png": "[encoded data removed]",
      "text/plain": [
       "<Figure size 864x576 with 1 Axes>"
      ]
     },
     "metadata": {
      "needs_background": "light"
     },
     "output_type": "display_data"
    }
   ],
   "source": [
    "rolmean = StockPriceCSCO.rolling(12).mean()\n",
    "rolstd = StockPriceCSCO.rolling(12).std()\n",
    "plt.figure(figsize=(12,8)) \n",
    "plt.plot( StockPriceCSCO, color='blue',label='Original')\n",
    "plt.plot(rolmean, color='red', label='Rolling Mean')\n",
    "plt.plot(rolstd, color='black', label = 'Rolling Std')\n",
    "plt.legend(loc='best')\n",
    "plt.title('Rolling Mean & Standard Deviation')\n",
    "plt.show()"
   ]
  },
  {
   "cell_type": "code",
   "execution_count": 90,
   "metadata": {},
   "outputs": [
    {
     "name": "stdout",
     "output_type": "stream",
     "text": [
      "Augmented Dickey-Fuller Test:\n",
      "ADF Test Statistic : -1.969207493346841\n",
      "p-value : 0.3002355567588244\n",
      "#Lags Used : 2\n",
      "Number of Observations Used : 103\n",
      "weak evidence against null hypothesis, time series has a unit root, indicating it is non-stationary \n"
     ]
    }
   ],
   "source": [
    "adf_check(StockPriceCSCO[\"CSCO_LOG\"])"
   ]
  },
  {
   "cell_type": "code",
   "execution_count": 91,
   "metadata": {},
   "outputs": [
    {
     "data": {
      "text/plain": [
       "DATE\n",
       "2017-04-03         NaN\n",
       "2017-04-04   -0.005075\n",
       "2017-04-05   -0.012348\n",
       "2017-04-06    0.002270\n",
       "2017-04-07   -0.003483\n",
       "Name: CSCO First Diff, dtype: float64"
      ]
     },
     "execution_count": 91,
     "metadata": {},
     "output_type": "execute_result"
    }
   ],
   "source": [
    "stockCSCO['CSCO First Diff'] = StockPriceCSCO[\"CSCO_LOG\"] - StockPriceCSCO[\"CSCO_LOG\"].shift(1)\n",
    "stockCSCO['CSCO First Diff'].head()"
   ]
  },
  {
   "cell_type": "code",
   "execution_count": 92,
   "metadata": {},
   "outputs": [
    {
     "name": "stdout",
     "output_type": "stream",
     "text": [
      "Augmented Dickey-Fuller Test:\n",
      "ADF Test Statistic : -7.237362416810142\n",
      "p-value : 1.9239138164285599e-10\n",
      "#Lags Used : 2\n",
      "Number of Observations Used : 102\n",
      "strong evidence against the null hypothesis, reject the null hypothesis. Data has no unit root and is stationary\n"
     ]
    }
   ],
   "source": [
    "adf_check(stockCSCO['CSCO First Diff'].dropna())"
   ]
  },
  {
   "cell_type": "code",
   "execution_count": 93,
   "metadata": {},
   "outputs": [
    {
     "data": {
      "text/plain": [
       "<AxesSubplot:xlabel='DATE'>"
      ]
     },
     "execution_count": 93,
     "metadata": {},
     "output_type": "execute_result"
    },
    {
     "data": {
      "image/png": "[encoded data removed]",
      "text/plain": [
       "<Figure size 432x288 with 1 Axes>"
      ]
     },
     "metadata": {
      "needs_background": "light"
     },
     "output_type": "display_data"
    }
   ],
   "source": [
    "stockCSCO['CSCO First Diff'].plot()"
   ]
  },
  {
   "cell_type": "code",
   "execution_count": 94,
   "metadata": {},
   "outputs": [
    {
     "data": {
      "image/png": "[encoded data removed]",
      "text/plain": [
       "<Figure size 432x288 with 1 Axes>"
      ]
     },
     "metadata": {
      "needs_background": "light"
     },
     "output_type": "display_data"
    }
   ],
   "source": [
    "fig_first = plot_acf(stockCSCO['CSCO First Diff'].dropna())"
   ]
  },
  {
   "cell_type": "code",
   "execution_count": 95,
   "metadata": {},
   "outputs": [
    {
     "data": {
      "image/png": "[encoded data removed]",
      "text/plain": [
       "<Figure size 432x288 with 1 Axes>"
      ]
     },
     "metadata": {
      "needs_background": "light"
     },
     "output_type": "display_data"
    }
   ],
   "source": [
    "result = plot_pacf(stockCSCO['CSCO First Diff'].dropna())"
   ]
  },
  {
   "cell_type": "code",
   "execution_count": 111,
   "metadata": {},
   "outputs": [
    {
     "name": "stdout",
     "output_type": "stream",
     "text": [
      "-631.4141994762937\n"
     ]
    }
   ],
   "source": [
    "model_arima = ARIMA(StockPriceCSCO[\"CSCO_LOG\"],order=(2,1,3))\n",
    "model_arima_fit = model_arima.fit()\n",
    "print(model_arima_fit.aic)"
   ]
  },
  {
   "cell_type": "code",
   "execution_count": 112,
   "metadata": {},
   "outputs": [
    {
     "data": {
      "text/html": [
       "<table class=\"simpletable\">\n",
       "<tr>\n",
       "        <td>Model:</td>              <td>ARIMA</td>              <td>BIC:</td>         <td>-612.8365</td>\n",
       "</tr>\n",
       "<tr>\n",
       "  <td>Dependent Variable:</td>    <td>D.CSCO_LOG</td>       <td>Log-Likelihood:</td>    <td>322.71</td>  \n",
       "</tr>\n",
       "<tr>\n",
       "         <td>Date:</td>        <td>2021-10-13 14:52</td>        <td>Scale:</td>         <td>1.0000</td>  \n",
       "</tr>\n",
       "<tr>\n",
       "   <td>No. Observations:</td>         <td>105</td>              <td>Method:</td>        <td>css-mle</td> \n",
       "</tr>\n",
       "<tr>\n",
       "       <td>Df Model:</td>              <td>6</td>               <td>Sample:</td>           <td>1</td>    \n",
       "</tr>\n",
       "<tr>\n",
       "     <td>Df Residuals:</td>           <td>99</td>                  <td></td>               <td>6</td>    \n",
       "</tr>\n",
       "<tr>\n",
       "      <td>Converged:</td>           <td>1.0000</td>      <td>S.D. of innovations:</td>   <td>0.011</td>  \n",
       "</tr>\n",
       "<tr>\n",
       "    <td>No. Iterations:</td>        <td>77.0000</td>             <td>HQIC:</td>        <td>-623.886</td> \n",
       "</tr>\n",
       "<tr>\n",
       "         <td>AIC:</td>             <td>-631.4142</td>              <td></td>               <td></td>     \n",
       "</tr>\n",
       "</table>\n",
       "<table class=\"simpletable\">\n",
       "<tr>\n",
       "          <td></td>          <th>Coef.</th>  <th>Std.Err.</th>    <th>t</th>     <th>P>|t|</th> <th>[0.025</th>  <th>0.975]</th> \n",
       "</tr>\n",
       "<tr>\n",
       "  <th>const</th>            <td>-0.0004</td>  <td>0.0009</td>  <td>-0.4663</td> <td>0.6410</td> <td>-0.0022</td> <td>0.0013</td> \n",
       "</tr>\n",
       "<tr>\n",
       "  <th>ar.L1.D.CSCO_LOG</th> <td>-0.5090</td>  <td>0.4166</td>  <td>-1.2219</td> <td>0.2217</td> <td>-1.3256</td> <td>0.3075</td> \n",
       "</tr>\n",
       "<tr>\n",
       "  <th>ar.L2.D.CSCO_LOG</th> <td>0.0688</td>   <td>0.3178</td>  <td>0.2163</td>  <td>0.8287</td> <td>-0.5542</td> <td>0.6917</td> \n",
       "</tr>\n",
       "<tr>\n",
       "  <th>ma.L1.D.CSCO_LOG</th> <td>0.6278</td>   <td>0.4074</td>  <td>1.5410</td>  <td>0.1233</td> <td>-0.1707</td> <td>1.4262</td> \n",
       "</tr>\n",
       "<tr>\n",
       "  <th>ma.L2.D.CSCO_LOG</th> <td>-0.1910</td>  <td>0.3400</td>  <td>-0.5618</td> <td>0.5743</td> <td>-0.8574</td> <td>0.4754</td> \n",
       "</tr>\n",
       "<tr>\n",
       "  <th>ma.L3.D.CSCO_LOG</th> <td>-0.2739</td>  <td>0.1060</td>  <td>-2.5839</td> <td>0.0098</td> <td>-0.4816</td> <td>-0.0661</td>\n",
       "</tr>\n",
       "</table>\n",
       "<table class=\"simpletable\">\n",
       "<tr>\n",
       "    <td></td>    <th>Real</th>   <th>Imaginary</th> <th>Modulus</th> <th>Frequency</th>\n",
       "</tr>\n",
       "<tr>\n",
       "  <th>AR.1</th> <td>-1.6130</td>  <td>0.0000</td>   <td>1.6130</td>   <td>0.5000</td>  \n",
       "</tr>\n",
       "<tr>\n",
       "  <th>AR.2</th> <td>9.0158</td>   <td>0.0000</td>   <td>9.0158</td>   <td>0.0000</td>  \n",
       "</tr>\n",
       "<tr>\n",
       "  <th>MA.1</th> <td>1.7677</td>   <td>-0.0000</td>  <td>1.7677</td>   <td>-0.0000</td> \n",
       "</tr>\n",
       "<tr>\n",
       "  <th>MA.2</th> <td>-1.2326</td>  <td>-0.7391</td>  <td>1.4372</td>   <td>-0.4140</td> \n",
       "</tr>\n",
       "<tr>\n",
       "  <th>MA.3</th> <td>-1.2326</td>  <td>0.7391</td>   <td>1.4372</td>   <td>0.4140</td>  \n",
       "</tr>\n",
       "</table>"
      ],
      "text/plain": [
       "<class 'statsmodels.iolib.summary2.Summary'>\n",
       "\"\"\"\n",
       "                          Results: ARIMA\n",
       "===================================================================\n",
       "Model:              ARIMA            BIC:                 -612.8365\n",
       "Dependent Variable: D.CSCO_LOG       Log-Likelihood:      322.71   \n",
       "Date:               2021-10-13 14:52 Scale:               1.0000   \n",
       "No. Observations:   105              Method:              css-mle  \n",
       "Df Model:           6                Sample:              1        \n",
       "Df Residuals:       99                                    6        \n",
       "Converged:          1.0000           S.D. of innovations: 0.011    \n",
       "No. Iterations:     77.0000          HQIC:                -623.886 \n",
       "AIC:                -631.4142                                      \n",
       "-------------------------------------------------------------------\n",
       "                     Coef.  Std.Err.    t    P>|t|   [0.025  0.975]\n",
       "-------------------------------------------------------------------\n",
       "const               -0.0004   0.0009 -0.4663 0.6410 -0.0022  0.0013\n",
       "ar.L1.D.CSCO_LOG    -0.5090   0.4166 -1.2219 0.2217 -1.3256  0.3075\n",
       "ar.L2.D.CSCO_LOG     0.0688   0.3178  0.2163 0.8287 -0.5542  0.6917\n",
       "ma.L1.D.CSCO_LOG     0.6278   0.4074  1.5410 0.1233 -0.1707  1.4262\n",
       "ma.L2.D.CSCO_LOG    -0.1910   0.3400 -0.5618 0.5743 -0.8574  0.4754\n",
       "ma.L3.D.CSCO_LOG    -0.2739   0.1060 -2.5839 0.0098 -0.4816 -0.0661\n",
       "----------------------------------------------------------------------------\n",
       "                Real           Imaginary          Modulus          Frequency\n",
       "----------------------------------------------------------------------------\n",
       "AR.1          -1.6130             0.0000           1.6130             0.5000\n",
       "AR.2           9.0158             0.0000           9.0158             0.0000\n",
       "MA.1           1.7677            -0.0000           1.7677            -0.0000\n",
       "MA.2          -1.2326            -0.7391           1.4372            -0.4140\n",
       "MA.3          -1.2326             0.7391           1.4372             0.4140\n",
       "===================================================================\n",
       "\n",
       "\"\"\""
      ]
     },
     "execution_count": 112,
     "metadata": {},
     "output_type": "execute_result"
    }
   ],
   "source": [
    "model_arima_fit.summary2()"
   ]
  },
  {
   "cell_type": "code",
   "execution_count": 113,
   "metadata": {},
   "outputs": [
    {
     "data": {
      "text/plain": [
       "array([3.47054006, 3.46579576, 3.46537743, 3.464668  , 3.46440421,\n",
       "       3.46389356, 3.46353921, 3.46308833, 3.46269733, 3.46226921,\n",
       "       3.46186411, 3.46144473, 3.46103421, 3.46061819, 3.46020558,\n",
       "       3.45979086])"
      ]
     },
     "execution_count": 113,
     "metadata": {},
     "output_type": "execute_result"
    }
   ],
   "source": [
    "model_arima_fit.forecast(16)[0]"
   ]
  },
  {
   "cell_type": "markdown",
   "metadata": {},
   "source": [
    "# Predicting Ebay"
   ]
  },
  {
   "cell_type": "code",
   "execution_count": 116,
   "metadata": {},
   "outputs": [],
   "source": [
    "#take the EBAY price and forecast\n",
    "stockEBAY=pd.DataFrame(StockPriceData.EBAY)"
   ]
  },
  {
   "cell_type": "code",
   "execution_count": 117,
   "metadata": {},
   "outputs": [
    {
     "data": {
      "text/html": [
       "<div>\n",
       "<style scoped>\n",
       "    .dataframe tbody tr th:only-of-type {\n",
       "        vertical-align: middle;\n",
       "    }\n",
       "\n",
       "    .dataframe tbody tr th {\n",
       "        vertical-align: top;\n",
       "    }\n",
       "\n",
       "    .dataframe thead th {\n",
       "        text-align: right;\n",
       "    }\n",
       "</style>\n",
       "<table border=\"1\" class=\"dataframe\">\n",
       "  <thead>\n",
       "    <tr style=\"text-align: right;\">\n",
       "      <th></th>\n",
       "      <th>EBAY</th>\n",
       "    </tr>\n",
       "    <tr>\n",
       "      <th>DATE</th>\n",
       "      <th></th>\n",
       "    </tr>\n",
       "  </thead>\n",
       "  <tbody>\n",
       "    <tr>\n",
       "      <th>2017-04-03</th>\n",
       "      <td>33.76</td>\n",
       "    </tr>\n",
       "    <tr>\n",
       "      <th>2017-04-04</th>\n",
       "      <td>34.14</td>\n",
       "    </tr>\n",
       "    <tr>\n",
       "      <th>2017-04-05</th>\n",
       "      <td>33.81</td>\n",
       "    </tr>\n",
       "    <tr>\n",
       "      <th>2017-04-06</th>\n",
       "      <td>34.16</td>\n",
       "    </tr>\n",
       "    <tr>\n",
       "      <th>2017-04-07</th>\n",
       "      <td>33.91</td>\n",
       "    </tr>\n",
       "  </tbody>\n",
       "</table>\n",
       "</div>"
      ],
      "text/plain": [
       "             EBAY\n",
       "DATE             \n",
       "2017-04-03  33.76\n",
       "2017-04-04  34.14\n",
       "2017-04-05  33.81\n",
       "2017-04-06  34.16\n",
       "2017-04-07  33.91"
      ]
     },
     "execution_count": 117,
     "metadata": {},
     "output_type": "execute_result"
    }
   ],
   "source": [
    "stockEBAY.head()"
   ]
  },
  {
   "cell_type": "code",
   "execution_count": 118,
   "metadata": {},
   "outputs": [
    {
     "data": {
      "text/html": [
       "<div>\n",
       "<style scoped>\n",
       "    .dataframe tbody tr th:only-of-type {\n",
       "        vertical-align: middle;\n",
       "    }\n",
       "\n",
       "    .dataframe tbody tr th {\n",
       "        vertical-align: top;\n",
       "    }\n",
       "\n",
       "    .dataframe thead th {\n",
       "        text-align: right;\n",
       "    }\n",
       "</style>\n",
       "<table border=\"1\" class=\"dataframe\">\n",
       "  <thead>\n",
       "    <tr style=\"text-align: right;\">\n",
       "      <th></th>\n",
       "      <th>count</th>\n",
       "      <th>mean</th>\n",
       "      <th>std</th>\n",
       "      <th>min</th>\n",
       "      <th>25%</th>\n",
       "      <th>50%</th>\n",
       "      <th>75%</th>\n",
       "      <th>max</th>\n",
       "    </tr>\n",
       "  </thead>\n",
       "  <tbody>\n",
       "    <tr>\n",
       "      <th>EBAY</th>\n",
       "      <td>106.0</td>\n",
       "      <td>34.791981</td>\n",
       "      <td>1.102618</td>\n",
       "      <td>32.05</td>\n",
       "      <td>34.0375</td>\n",
       "      <td>34.81</td>\n",
       "      <td>35.53</td>\n",
       "      <td>37.18</td>\n",
       "    </tr>\n",
       "  </tbody>\n",
       "</table>\n",
       "</div>"
      ],
      "text/plain": [
       "      count       mean       std    min      25%    50%    75%    max\n",
       "EBAY  106.0  34.791981  1.102618  32.05  34.0375  34.81  35.53  37.18"
      ]
     },
     "execution_count": 118,
     "metadata": {},
     "output_type": "execute_result"
    }
   ],
   "source": [
    "stockEBAY.describe().transpose()"
   ]
  },
  {
   "cell_type": "code",
   "execution_count": 119,
   "metadata": {},
   "outputs": [
    {
     "data": {
      "text/plain": [
       "DATE\n",
       "2017-04-03    3.519277\n",
       "2017-04-04    3.530470\n",
       "2017-04-05    3.520757\n",
       "2017-04-06    3.531055\n",
       "2017-04-07    3.523710\n",
       "                ...   \n",
       "2017-08-25    3.546163\n",
       "2017-08-28    3.549905\n",
       "2017-08-29    3.561046\n",
       "2017-08-30    3.574871\n",
       "2017-08-31    3.587124\n",
       "Name: EBAY_LOG, Length: 106, dtype: float64"
      ]
     },
     "execution_count": 119,
     "metadata": {},
     "output_type": "execute_result"
    }
   ],
   "source": [
    "#Creating a column 'EBAY_LOG' with the log values of 'NASDAQ.EBAY' column data\n",
    "stockEBAY[\"EBAY_LOG\"] =stockEBAY['EBAY'].apply(lambda x:np.log(x))\n",
    "StockPriceEBAY=stockEBAY.drop('EBAY',axis=1)\n",
    "StockPriceEBAY[\"EBAY_LOG\"]"
   ]
  },
  {
   "cell_type": "code",
   "execution_count": 120,
   "metadata": {},
   "outputs": [
    {
     "data": {
      "text/plain": [
       "[<matplotlib.lines.Line2D at 0x1e2b6eea888>]"
      ]
     },
     "execution_count": 120,
     "metadata": {},
     "output_type": "execute_result"
    },
    {
     "data": {
      "image/png": "[encoded data removed]",
      "text/plain": [
       "<Figure size 864x576 with 1 Axes>"
      ]
     },
     "metadata": {
      "needs_background": "light"
     },
     "output_type": "display_data"
    }
   ],
   "source": [
    "#plot stock AAL\n",
    "plt.figure(figsize=(12,8))\n",
    "#plt.style.use('fivethirtyeight')\n",
    "plt.plot(StockPriceEBAY[\"EBAY_LOG\"])"
   ]
  },
  {
   "cell_type": "code",
   "execution_count": 121,
   "metadata": {},
   "outputs": [
    {
     "data": {
      "image/png": "[encoded data removed]",
      "text/plain": [
       "<Figure size 864x576 with 1 Axes>"
      ]
     },
     "metadata": {
      "needs_background": "light"
     },
     "output_type": "display_data"
    }
   ],
   "source": [
    "rolmean = StockPriceEBAY.rolling(12).mean()\n",
    "rolstd = StockPriceEBAY.rolling(12).std()\n",
    "plt.figure(figsize=(12,8)) \n",
    "plt.plot( StockPriceEBAY, color='blue',label='Original')\n",
    "plt.plot(rolmean, color='red', label='Rolling Mean')\n",
    "plt.plot(rolstd, color='black', label = 'Rolling Std')\n",
    "plt.legend(loc='best')\n",
    "plt.title('Rolling Mean & Standard Deviation')\n",
    "plt.show()"
   ]
  },
  {
   "cell_type": "code",
   "execution_count": 122,
   "metadata": {},
   "outputs": [
    {
     "name": "stdout",
     "output_type": "stream",
     "text": [
      "Augmented Dickey-Fuller Test:\n",
      "ADF Test Statistic : -1.9962978634802515\n",
      "p-value : 0.2881987125649663\n",
      "#Lags Used : 0\n",
      "Number of Observations Used : 105\n",
      "weak evidence against null hypothesis, time series has a unit root, indicating it is non-stationary \n"
     ]
    }
   ],
   "source": [
    "adf_check(StockPriceEBAY[\"EBAY_LOG\"])"
   ]
  },
  {
   "cell_type": "code",
   "execution_count": 123,
   "metadata": {},
   "outputs": [
    {
     "data": {
      "text/plain": [
       "DATE\n",
       "2017-04-03         NaN\n",
       "2017-04-04    0.011193\n",
       "2017-04-05   -0.009713\n",
       "2017-04-06    0.010299\n",
       "2017-04-07   -0.007345\n",
       "Name: EBAY First Diff, dtype: float64"
      ]
     },
     "execution_count": 123,
     "metadata": {},
     "output_type": "execute_result"
    }
   ],
   "source": [
    "stockEBAY['EBAY First Diff'] = StockPriceEBAY[\"EBAY_LOG\"] - StockPriceEBAY[\"EBAY_LOG\"].shift(1)\n",
    "stockEBAY['EBAY First Diff'].head()"
   ]
  },
  {
   "cell_type": "code",
   "execution_count": 124,
   "metadata": {},
   "outputs": [
    {
     "name": "stdout",
     "output_type": "stream",
     "text": [
      "Augmented Dickey-Fuller Test:\n",
      "ADF Test Statistic : -4.122273559572955\n",
      "p-value : 0.0008895990751206726\n",
      "#Lags Used : 6\n",
      "Number of Observations Used : 98\n",
      "strong evidence against the null hypothesis, reject the null hypothesis. Data has no unit root and is stationary\n"
     ]
    }
   ],
   "source": [
    "adf_check(stockEBAY['EBAY First Diff'].dropna())\n"
   ]
  },
  {
   "cell_type": "code",
   "execution_count": 125,
   "metadata": {},
   "outputs": [
    {
     "data": {
      "text/plain": [
       "<AxesSubplot:xlabel='DATE'>"
      ]
     },
     "execution_count": 125,
     "metadata": {},
     "output_type": "execute_result"
    },
    {
     "data": {
      "image/png": "[encoded data removed]",
      "text/plain": [
       "<Figure size 432x288 with 1 Axes>"
      ]
     },
     "metadata": {
      "needs_background": "light"
     },
     "output_type": "display_data"
    }
   ],
   "source": [
    "stockEBAY['EBAY First Diff'].plot()"
   ]
  },
  {
   "cell_type": "code",
   "execution_count": 126,
   "metadata": {},
   "outputs": [
    {
     "data": {
      "image/png": "[encoded data removed]",
      "text/plain": [
       "<Figure size 432x288 with 1 Axes>"
      ]
     },
     "metadata": {
      "needs_background": "light"
     },
     "output_type": "display_data"
    }
   ],
   "source": [
    "fig_first = plot_acf(stockEBAY['EBAY First Diff'].dropna())"
   ]
  },
  {
   "cell_type": "code",
   "execution_count": 127,
   "metadata": {},
   "outputs": [
    {
     "data": {
      "image/png": "[encoded data removed]",
      "text/plain": [
       "<Figure size 432x288 with 1 Axes>"
      ]
     },
     "metadata": {
      "needs_background": "light"
     },
     "output_type": "display_data"
    }
   ],
   "source": [
    "result = plot_pacf(stockEBAY['EBAY First Diff'].dropna())"
   ]
  },
  {
   "cell_type": "code",
   "execution_count": 128,
   "metadata": {},
   "outputs": [
    {
     "name": "stdout",
     "output_type": "stream",
     "text": [
      "-620.0968730337498\n"
     ]
    }
   ],
   "source": [
    "model_arima = ARIMA(StockPriceEBAY[\"EBAY_LOG\"],order=(2,1,3))\n",
    "model_arima_fit = model_arima.fit()\n",
    "print(model_arima_fit.aic)"
   ]
  },
  {
   "cell_type": "code",
   "execution_count": 129,
   "metadata": {},
   "outputs": [
    {
     "data": {
      "text/html": [
       "<table class=\"simpletable\">\n",
       "<tr>\n",
       "        <td>Model:</td>              <td>ARIMA</td>              <td>BIC:</td>         <td>-601.5192</td>\n",
       "</tr>\n",
       "<tr>\n",
       "  <td>Dependent Variable:</td>    <td>D.EBAY_LOG</td>       <td>Log-Likelihood:</td>    <td>317.05</td>  \n",
       "</tr>\n",
       "<tr>\n",
       "         <td>Date:</td>        <td>2021-10-13 14:55</td>        <td>Scale:</td>         <td>1.0000</td>  \n",
       "</tr>\n",
       "<tr>\n",
       "   <td>No. Observations:</td>         <td>105</td>              <td>Method:</td>        <td>css-mle</td> \n",
       "</tr>\n",
       "<tr>\n",
       "       <td>Df Model:</td>              <td>6</td>               <td>Sample:</td>           <td>1</td>    \n",
       "</tr>\n",
       "<tr>\n",
       "     <td>Df Residuals:</td>           <td>99</td>                  <td></td>               <td>6</td>    \n",
       "</tr>\n",
       "<tr>\n",
       "      <td>Converged:</td>           <td>1.0000</td>      <td>S.D. of innovations:</td>   <td>0.012</td>  \n",
       "</tr>\n",
       "<tr>\n",
       "    <td>No. Iterations:</td>        <td>35.0000</td>             <td>HQIC:</td>        <td>-612.569</td> \n",
       "</tr>\n",
       "<tr>\n",
       "         <td>AIC:</td>             <td>-620.0969</td>              <td></td>               <td></td>     \n",
       "</tr>\n",
       "</table>\n",
       "<table class=\"simpletable\">\n",
       "<tr>\n",
       "          <td></td>          <th>Coef.</th>  <th>Std.Err.</th>    <th>t</th>     <th>P>|t|</th> <th>[0.025</th>  <th>0.975]</th> \n",
       "</tr>\n",
       "<tr>\n",
       "  <th>const</th>            <td>0.0006</td>   <td>0.0012</td>  <td>0.5119</td>  <td>0.6087</td> <td>-0.0017</td> <td>0.0029</td> \n",
       "</tr>\n",
       "<tr>\n",
       "  <th>ar.L1.D.EBAY_LOG</th> <td>-0.8103</td>  <td>0.1128</td>  <td>-7.1803</td> <td>0.0000</td> <td>-1.0314</td> <td>-0.5891</td>\n",
       "</tr>\n",
       "<tr>\n",
       "  <th>ar.L2.D.EBAY_LOG</th> <td>-0.6719</td>  <td>0.0919</td>  <td>-7.3094</td> <td>0.0000</td> <td>-0.8520</td> <td>-0.4917</td>\n",
       "</tr>\n",
       "<tr>\n",
       "  <th>ma.L1.D.EBAY_LOG</th> <td>0.9018</td>   <td>0.1409</td>  <td>6.3985</td>  <td>0.0000</td> <td>0.6255</td>  <td>1.1780</td> \n",
       "</tr>\n",
       "<tr>\n",
       "  <th>ma.L2.D.EBAY_LOG</th> <td>0.8177</td>   <td>0.1403</td>  <td>5.8292</td>  <td>0.0000</td> <td>0.5428</td>  <td>1.0926</td> \n",
       "</tr>\n",
       "<tr>\n",
       "  <th>ma.L3.D.EBAY_LOG</th> <td>-0.1701</td>  <td>0.1360</td>  <td>-1.2503</td> <td>0.2112</td> <td>-0.4367</td> <td>0.0965</td> \n",
       "</tr>\n",
       "</table>\n",
       "<table class=\"simpletable\">\n",
       "<tr>\n",
       "    <td></td>    <th>Real</th>   <th>Imaginary</th> <th>Modulus</th> <th>Frequency</th>\n",
       "</tr>\n",
       "<tr>\n",
       "  <th>AR.1</th> <td>-0.6030</td>  <td>-1.0606</td>  <td>1.2200</td>   <td>-0.3323</td> \n",
       "</tr>\n",
       "<tr>\n",
       "  <th>AR.2</th> <td>-0.6030</td>  <td>1.0606</td>   <td>1.2200</td>   <td>0.3323</td>  \n",
       "</tr>\n",
       "<tr>\n",
       "  <th>MA.1</th> <td>-0.5359</td>  <td>-0.8443</td>  <td>1.0000</td>   <td>-0.3400</td> \n",
       "</tr>\n",
       "<tr>\n",
       "  <th>MA.2</th> <td>-0.5359</td>  <td>0.8443</td>   <td>1.0000</td>   <td>0.3400</td>  \n",
       "</tr>\n",
       "<tr>\n",
       "  <th>MA.3</th> <td>5.8795</td>   <td>-0.0000</td>  <td>5.8795</td>   <td>-0.0000</td> \n",
       "</tr>\n",
       "</table>"
      ],
      "text/plain": [
       "<class 'statsmodels.iolib.summary2.Summary'>\n",
       "\"\"\"\n",
       "                          Results: ARIMA\n",
       "===================================================================\n",
       "Model:              ARIMA            BIC:                 -601.5192\n",
       "Dependent Variable: D.EBAY_LOG       Log-Likelihood:      317.05   \n",
       "Date:               2021-10-13 14:55 Scale:               1.0000   \n",
       "No. Observations:   105              Method:              css-mle  \n",
       "Df Model:           6                Sample:              1        \n",
       "Df Residuals:       99                                    6        \n",
       "Converged:          1.0000           S.D. of innovations: 0.012    \n",
       "No. Iterations:     35.0000          HQIC:                -612.569 \n",
       "AIC:                -620.0969                                      \n",
       "-------------------------------------------------------------------\n",
       "                     Coef.  Std.Err.    t    P>|t|   [0.025  0.975]\n",
       "-------------------------------------------------------------------\n",
       "const                0.0006   0.0012  0.5119 0.6087 -0.0017  0.0029\n",
       "ar.L1.D.EBAY_LOG    -0.8103   0.1128 -7.1803 0.0000 -1.0314 -0.5891\n",
       "ar.L2.D.EBAY_LOG    -0.6719   0.0919 -7.3094 0.0000 -0.8520 -0.4917\n",
       "ma.L1.D.EBAY_LOG     0.9018   0.1409  6.3985 0.0000  0.6255  1.1780\n",
       "ma.L2.D.EBAY_LOG     0.8177   0.1403  5.8292 0.0000  0.5428  1.0926\n",
       "ma.L3.D.EBAY_LOG    -0.1701   0.1360 -1.2503 0.2112 -0.4367  0.0965\n",
       "----------------------------------------------------------------------------\n",
       "                Real           Imaginary          Modulus          Frequency\n",
       "----------------------------------------------------------------------------\n",
       "AR.1          -0.6030            -1.0606           1.2200            -0.3323\n",
       "AR.2          -0.6030             1.0606           1.2200             0.3323\n",
       "MA.1          -0.5359            -0.8443           1.0000            -0.3400\n",
       "MA.2          -0.5359             0.8443           1.0000             0.3400\n",
       "MA.3           5.8795            -0.0000           5.8795            -0.0000\n",
       "===================================================================\n",
       "\n",
       "\"\"\""
      ]
     },
     "execution_count": 129,
     "metadata": {},
     "output_type": "execute_result"
    }
   ],
   "source": [
    "model_arima_fit.summary2()"
   ]
  },
  {
   "cell_type": "code",
   "execution_count": 130,
   "metadata": {},
   "outputs": [
    {
     "data": {
      "text/plain": [
       "array([3.58631071, 3.58764914, 3.58665975, 3.58803407, 3.58905712,\n",
       "       3.5887767 , 3.58978845, 3.59062894, 3.59074004, 3.59155721,\n",
       "       3.59229232, 3.59261954, 3.59333239, 3.59400682, 3.59445329,\n",
       "       3.59511029])"
      ]
     },
     "execution_count": 130,
     "metadata": {},
     "output_type": "execute_result"
    }
   ],
   "source": [
    "model_arima_fit.forecast(16)[0]"
   ]
  },
  {
   "cell_type": "code",
   "execution_count": null,
   "metadata": {},
   "outputs": [],
   "source": []
  }
 ],
 "metadata": {
  "kernelspec": {
   "display_name": "Python 3",
   "language": "python",
   "name": "python3"
  },
  "language_info": {
   "codemirror_mode": {
    "name": "ipython",
    "version": 3
   },
   "file_extension": ".py",
   "mimetype": "text/x-python",
   "name": "python",
   "nbconvert_exporter": "python",
   "pygments_lexer": "ipython3",
   "version": "3.7.6"
  }
 },
 "nbformat": 4,
 "nbformat_minor": 4
}
